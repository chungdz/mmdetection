{
 "cells": [
  {
   "cell_type": "code",
   "execution_count": 100,
   "id": "566b7049",
   "metadata": {},
   "outputs": [],
   "source": [
    "import torch\n",
    "import torch.nn as nn\n",
    "import torch.nn.functional as F\n",
    "import sys"
   ]
  },
  {
   "cell_type": "code",
   "execution_count": 8,
   "id": "fd3a6278",
   "metadata": {},
   "outputs": [],
   "source": [
    "feature_maps = (torch.randn(3, 256, 216, 184), torch.randn(3, 256, 108, 92), torch.randn(3, 256, 54, 46), torch.randn(3, 256, 27, 23))"
   ]
  },
  {
   "cell_type": "code",
   "execution_count": 6,
   "id": "0e1d9d31",
   "metadata": {},
   "outputs": [],
   "source": [
    "rois = torch.Tensor([[  0.0000, 557.9707, 366.0170, 697.4088, 566.9425],\n",
    "[  1.0000,   0.0000, 622.1016, 143.7075, 709.8333],\n",
    "[  1.0000,  16.5338, 620.5057, 197.3975, 710.6006],\n",
    "[  2.0000, 223.7691, 473.1749, 359.9460, 628.8488],\n",
    "[  2.0000, 208.7294, 522.8946, 341.2042, 643.8867]])"
   ]
  },
  {
   "cell_type": "code",
   "execution_count": 11,
   "id": "0c63a8f3",
   "metadata": {},
   "outputs": [],
   "source": [
    "rois_index = rois[:, 0].long()"
   ]
  },
  {
   "cell_type": "code",
   "execution_count": 13,
   "id": "837080a0",
   "metadata": {},
   "outputs": [],
   "source": [
    "rois_ = rois[:, 1:]"
   ]
  },
  {
   "cell_type": "code",
   "execution_count": 10,
   "id": "9d467540",
   "metadata": {},
   "outputs": [],
   "source": [
    "i = 0\n",
    "curf = feature_maps[i]\n",
    "scale_factor = 4 * (i + 1)"
   ]
  },
  {
   "cell_type": "code",
   "execution_count": 18,
   "id": "7692f290",
   "metadata": {},
   "outputs": [],
   "source": [
    "rois_rescale = torch.round(rois_ / scale_factor).long()"
   ]
  },
  {
   "cell_type": "code",
   "execution_count": 37,
   "id": "8f05ddd4",
   "metadata": {},
   "outputs": [
    {
     "data": {
      "text/plain": [
       "tensor([0, 1, 1, 2, 2])"
      ]
     },
     "execution_count": 37,
     "metadata": {},
     "output_type": "execute_result"
    }
   ],
   "source": [
    "rois_index"
   ]
  },
  {
   "cell_type": "code",
   "execution_count": 19,
   "id": "fb2b1eb7",
   "metadata": {},
   "outputs": [
    {
     "data": {
      "text/plain": [
       "tensor([[139,  92, 174, 142],\n",
       "        [  0, 156,  36, 177],\n",
       "        [  4, 155,  49, 178],\n",
       "        [ 56, 118,  90, 157],\n",
       "        [ 52, 131,  85, 161]])"
      ]
     },
     "execution_count": 19,
     "metadata": {},
     "output_type": "execute_result"
    }
   ],
   "source": [
    "rois_rescale"
   ]
  },
  {
   "cell_type": "code",
   "execution_count": 80,
   "id": "874be0ea",
   "metadata": {},
   "outputs": [],
   "source": [
    "oneD_coordinate = torch.arange(curf.size(2) * curf.size(3)).reshape(1, curf.size(2), curf.size(3))\n",
    "y_coordinate = torch.floor(oneD_coordinate / curf.size(3))\n",
    "x_coordinate = oneD_coordinate % curf.size(3)"
   ]
  },
  {
   "cell_type": "code",
   "execution_count": 81,
   "id": "018153f4",
   "metadata": {},
   "outputs": [
    {
     "data": {
      "text/plain": [
       "tensor([[[    0,     1,     2,  ...,   181,   182,   183],\n",
       "         [  184,   185,   186,  ...,   365,   366,   367],\n",
       "         [  368,   369,   370,  ...,   549,   550,   551],\n",
       "         ...,\n",
       "         [39192, 39193, 39194,  ..., 39373, 39374, 39375],\n",
       "         [39376, 39377, 39378,  ..., 39557, 39558, 39559],\n",
       "         [39560, 39561, 39562,  ..., 39741, 39742, 39743]]])"
      ]
     },
     "execution_count": 81,
     "metadata": {},
     "output_type": "execute_result"
    }
   ],
   "source": [
    "oneD_coordinate"
   ]
  },
  {
   "cell_type": "code",
   "execution_count": 82,
   "id": "acb56550",
   "metadata": {},
   "outputs": [
    {
     "data": {
      "text/plain": [
       "tensor([[[  0.,   0.,   0.,  ...,   0.,   0.,   0.],\n",
       "         [  1.,   1.,   1.,  ...,   1.,   1.,   1.],\n",
       "         [  2.,   2.,   2.,  ...,   2.,   2.,   2.],\n",
       "         ...,\n",
       "         [213., 213., 213.,  ..., 213., 213., 213.],\n",
       "         [214., 214., 214.,  ..., 214., 214., 214.],\n",
       "         [215., 215., 215.,  ..., 215., 215., 215.]]])"
      ]
     },
     "execution_count": 82,
     "metadata": {},
     "output_type": "execute_result"
    }
   ],
   "source": [
    "y_coordinate"
   ]
  },
  {
   "cell_type": "code",
   "execution_count": 83,
   "id": "f4fd124a",
   "metadata": {},
   "outputs": [
    {
     "data": {
      "text/plain": [
       "tensor([[[  0,   1,   2,  ..., 181, 182, 183],\n",
       "         [  0,   1,   2,  ..., 181, 182, 183],\n",
       "         [  0,   1,   2,  ..., 181, 182, 183],\n",
       "         ...,\n",
       "         [  0,   1,   2,  ..., 181, 182, 183],\n",
       "         [  0,   1,   2,  ..., 181, 182, 183],\n",
       "         [  0,   1,   2,  ..., 181, 182, 183]]])"
      ]
     },
     "execution_count": 83,
     "metadata": {},
     "output_type": "execute_result"
    }
   ],
   "source": [
    "x_coordinate"
   ]
  },
  {
   "cell_type": "code",
   "execution_count": 84,
   "id": "eabed666",
   "metadata": {},
   "outputs": [],
   "source": [
    "y_coordinate = y_coordinate.repeat(rois_rescale.size(0), 1, 1)\n",
    "x_coordinate = x_coordinate.repeat(rois_rescale.size(0), 1, 1)"
   ]
  },
  {
   "cell_type": "code",
   "execution_count": 85,
   "id": "39e365a1",
   "metadata": {},
   "outputs": [
    {
     "data": {
      "text/plain": [
       "torch.Size([5, 216, 184])"
      ]
     },
     "execution_count": 85,
     "metadata": {},
     "output_type": "execute_result"
    }
   ],
   "source": [
    "y_coordinate.size()"
   ]
  },
  {
   "cell_type": "code",
   "execution_count": 86,
   "id": "13166d24",
   "metadata": {},
   "outputs": [],
   "source": [
    "one_mask = (x_coordinate >= rois_rescale[:, 0].reshape(-1, 1, 1)) & \\\n",
    "            (x_coordinate <= rois_rescale[:, 2].reshape(-1, 1, 1)) & \\\n",
    "            (y_coordinate >= rois_rescale[:, 1].reshape(-1, 1, 1)) & \\\n",
    "            (y_coordinate <= rois_rescale[:, 3].reshape(-1, 1, 1))"
   ]
  },
  {
   "cell_type": "code",
   "execution_count": 111,
   "id": "d400acd9",
   "metadata": {},
   "outputs": [
    {
     "data": {
      "text/plain": [
       "torch.Size([5, 1, 216, 184])"
      ]
     },
     "execution_count": 111,
     "metadata": {},
     "output_type": "execute_result"
    }
   ],
   "source": [
    "one_mask = one_mask.reshape(-1, 1, curf.size(2), curf.size(3))\n",
    "one_mask.size()"
   ]
  },
  {
   "cell_type": "code",
   "execution_count": 123,
   "id": "de5ba957",
   "metadata": {},
   "outputs": [
    {
     "data": {
      "text/plain": [
       "torch.Size([5, 256, 216, 184])"
      ]
     },
     "execution_count": 123,
     "metadata": {},
     "output_type": "execute_result"
    }
   ],
   "source": [
    "feature_for_rois = curf[rois_index]\n",
    "feature_for_rois.size()"
   ]
  },
  {
   "cell_type": "code",
   "execution_count": 105,
   "id": "fe2b7e91",
   "metadata": {},
   "outputs": [
    {
     "data": {
      "text/plain": [
       "122093568"
      ]
     },
     "execution_count": 105,
     "metadata": {},
     "output_type": "execute_result"
    }
   ],
   "source": [
    "curf.element_size() * curf.nelement()"
   ]
  },
  {
   "cell_type": "code",
   "execution_count": 108,
   "id": "75718dc2",
   "metadata": {},
   "outputs": [
    {
     "data": {
      "text/plain": [
       "5.57171630859375"
      ]
     },
     "execution_count": 108,
     "metadata": {},
     "output_type": "execute_result"
    }
   ],
   "source": [
    "# 过大，不能这么做，用其他办法，比如深度换广度\n",
    "122093568 * 49 / 1073741824"
   ]
  },
  {
   "cell_type": "code",
   "execution_count": 128,
   "id": "855ddacd",
   "metadata": {},
   "outputs": [
    {
     "data": {
      "text/plain": [
       "tensor([False, False, False, False, False, False, False, False, False, False,\n",
       "        False, False, False, False, False, False, False, False, False, False,\n",
       "        False, False, False, False, False, False, False, False, False, False,\n",
       "        False, False, False, False, False, False, False, False, False, False,\n",
       "        False, False, False, False, False, False, False, False, False, False,\n",
       "        False, False, False, False, False, False, False, False, False, False,\n",
       "        False, False, False, False, False, False, False, False, False, False,\n",
       "        False, False, False, False, False, False, False, False, False, False,\n",
       "        False, False, False, False, False, False, False, False, False, False,\n",
       "        False, False, False, False, False, False, False, False, False, False,\n",
       "        False, False, False, False, False, False, False, False, False, False,\n",
       "        False, False, False, False, False, False, False, False, False, False,\n",
       "        False, False, False, False, False, False, False, False, False, False,\n",
       "        False, False, False, False, False, False, False, False, False, False,\n",
       "        False, False, False, False, False, False, False, False, False, False,\n",
       "        False, False, False, False, False, False, False, False, False, False,\n",
       "        False, False, False, False, False, False, False, False, False, False,\n",
       "        False, False, False, False, False, False, False, False, False, False,\n",
       "        False, False, False, False])"
      ]
     },
     "execution_count": 128,
     "metadata": {},
     "output_type": "execute_result"
    }
   ],
   "source": [
    "one_mask[1][0][92]"
   ]
  },
  {
   "cell_type": "code",
   "execution_count": 125,
   "id": "d12ad7da",
   "metadata": {},
   "outputs": [],
   "source": [
    "masked = feature_for_rois.masked_fill_(~one_mask, 0)"
   ]
  },
  {
   "cell_type": "code",
   "execution_count": 129,
   "id": "cdcdc1fe",
   "metadata": {},
   "outputs": [
    {
     "data": {
      "text/plain": [
       "tensor([-1.0190,  0.2505, -1.2973,  0.1266,  1.4590, -1.0186, -1.0845, -0.5185,\n",
       "         0.2982, -0.9843, -0.0731,  0.5933, -1.0071,  0.2438,  1.2670, -0.1118,\n",
       "         0.0731, -0.2255,  0.4128, -0.8701, -0.3399, -0.1652, -0.4243, -0.7005,\n",
       "        -0.1433, -0.6158, -0.0508, -0.8184, -0.4700,  0.9004,  0.6842,  0.1634,\n",
       "         0.5689, -2.2396, -0.7154,  1.4591,  0.5080,  0.0000,  0.0000,  0.0000,\n",
       "         0.0000,  0.0000,  0.0000,  0.0000,  0.0000,  0.0000,  0.0000,  0.0000,\n",
       "         0.0000,  0.0000,  0.0000,  0.0000,  0.0000,  0.0000,  0.0000,  0.0000,\n",
       "         0.0000,  0.0000,  0.0000,  0.0000,  0.0000,  0.0000,  0.0000,  0.0000,\n",
       "         0.0000,  0.0000,  0.0000,  0.0000,  0.0000,  0.0000,  0.0000,  0.0000,\n",
       "         0.0000,  0.0000,  0.0000,  0.0000,  0.0000,  0.0000,  0.0000,  0.0000,\n",
       "         0.0000,  0.0000,  0.0000,  0.0000,  0.0000,  0.0000,  0.0000,  0.0000,\n",
       "         0.0000,  0.0000,  0.0000,  0.0000,  0.0000,  0.0000,  0.0000,  0.0000,\n",
       "         0.0000,  0.0000,  0.0000,  0.0000,  0.0000,  0.0000,  0.0000,  0.0000,\n",
       "         0.0000,  0.0000,  0.0000,  0.0000,  0.0000,  0.0000,  0.0000,  0.0000,\n",
       "         0.0000,  0.0000,  0.0000,  0.0000,  0.0000,  0.0000,  0.0000,  0.0000,\n",
       "         0.0000,  0.0000,  0.0000,  0.0000,  0.0000,  0.0000,  0.0000,  0.0000,\n",
       "         0.0000,  0.0000,  0.0000,  0.0000,  0.0000,  0.0000,  0.0000,  0.0000,\n",
       "         0.0000,  0.0000,  0.0000,  0.0000,  0.0000,  0.0000,  0.0000,  0.0000,\n",
       "         0.0000,  0.0000,  0.0000,  0.0000,  0.0000,  0.0000,  0.0000,  0.0000,\n",
       "         0.0000,  0.0000,  0.0000,  0.0000,  0.0000,  0.0000,  0.0000,  0.0000,\n",
       "         0.0000,  0.0000,  0.0000,  0.0000,  0.0000,  0.0000,  0.0000,  0.0000,\n",
       "         0.0000,  0.0000,  0.0000,  0.0000,  0.0000,  0.0000,  0.0000,  0.0000,\n",
       "         0.0000,  0.0000,  0.0000,  0.0000,  0.0000,  0.0000,  0.0000,  0.0000])"
      ]
     },
     "execution_count": 129,
     "metadata": {},
     "output_type": "execute_result"
    }
   ],
   "source": [
    "masked[1][0][156]"
   ]
  },
  {
   "cell_type": "code",
   "execution_count": 121,
   "id": "5a75246d",
   "metadata": {},
   "outputs": [
    {
     "data": {
      "text/plain": [
       "torch.Size([5, 256, 216, 184])"
      ]
     },
     "execution_count": 121,
     "metadata": {},
     "output_type": "execute_result"
    }
   ],
   "source": [
    "masked.size()"
   ]
  },
  {
   "cell_type": "code",
   "execution_count": 130,
   "id": "ff8c6d7e",
   "metadata": {},
   "outputs": [],
   "source": [
    "# 方案二：\n",
    "# 把x的power的cumsum算出来之后再根据坐标相减\n",
    "# e.g. 对x1 y1 x2 y2来说\n",
    "# 他们的和等于的是\n",
    "# cumsum[x2][y2] - cumsum[x1][y2] - cumsum[x2][y1] + cumsum[x1][y1]"
   ]
  },
  {
   "cell_type": "code",
   "execution_count": 145,
   "id": "5366d549",
   "metadata": {},
   "outputs": [],
   "source": [
    "p = nn.Parameter(torch.Tensor([3]))\n",
    "minimumx = nn.Parameter(torch.Tensor([1e-6]), requires_grad=False)"
   ]
  },
  {
   "cell_type": "code",
   "execution_count": 146,
   "id": "ea14c09b",
   "metadata": {},
   "outputs": [],
   "source": [
    "xpower = torch.pow(torch.maximum(curf, minimumx), p)"
   ]
  },
  {
   "cell_type": "code",
   "execution_count": 150,
   "id": "327a6239",
   "metadata": {},
   "outputs": [],
   "source": [
    "xpower_cumsum = xpower.cumsum(2).cumsum(3)"
   ]
  },
  {
   "cell_type": "code",
   "execution_count": 156,
   "id": "58d43756",
   "metadata": {},
   "outputs": [],
   "source": [
    "x1 = rois_rescale[:, 0]\n",
    "y1 = rois_rescale[:, 1]\n",
    "x2 = rois_rescale[:, 2]\n",
    "y2 = rois_rescale[:, 3]"
   ]
  },
  {
   "cell_type": "code",
   "execution_count": 157,
   "id": "2656ee06",
   "metadata": {},
   "outputs": [
    {
     "data": {
      "text/plain": [
       "torch.Size([5])"
      ]
     },
     "execution_count": 157,
     "metadata": {},
     "output_type": "execute_result"
    }
   ],
   "source": [
    "x1.size()"
   ]
  },
  {
   "cell_type": "code",
   "execution_count": 158,
   "id": "ed8ced94",
   "metadata": {},
   "outputs": [],
   "source": [
    "v1 = xpower_cumsum[rois_index, :, x1, y1]\n",
    "v2 = xpower_cumsum[rois_index, :, x1, y2]\n",
    "v3 = xpower_cumsum[rois_index, :, x2, y1]\n",
    "v4 = xpower_cumsum[rois_index, :, x2, y2]\n",
    "\n",
    "roi_power_sum = v4 - v3 - v2 + v1"
   ]
  },
  {
   "cell_type": "code",
   "execution_count": 159,
   "id": "103c0401",
   "metadata": {},
   "outputs": [
    {
     "data": {
      "text/plain": [
       "torch.Size([5, 256])"
      ]
     },
     "execution_count": 159,
     "metadata": {},
     "output_type": "execute_result"
    }
   ],
   "source": [
    "roi_power_sum.size()"
   ]
  },
  {
   "cell_type": "code",
   "execution_count": 137,
   "id": "8599d251",
   "metadata": {},
   "outputs": [
    {
     "data": {
      "text/plain": [
       "tensor(-0.9566)"
      ]
     },
     "execution_count": 137,
     "metadata": {},
     "output_type": "execute_result"
    }
   ],
   "source": [
    "x_power_cumsum[0, 0, 139, 92]"
   ]
  },
  {
   "cell_type": "code",
   "execution_count": 144,
   "id": "bc9814f7",
   "metadata": {},
   "outputs": [
    {
     "data": {
      "text/plain": [
       "tensor(-0.9566)"
      ]
     },
     "execution_count": 144,
     "metadata": {},
     "output_type": "execute_result"
    }
   ],
   "source": [
    "v1[0][0]"
   ]
  },
  {
   "cell_type": "code",
   "execution_count": 160,
   "id": "1f9b5b8c",
   "metadata": {},
   "outputs": [
    {
     "data": {
      "text/plain": [
       "tensor([139,   0,   4,  56,  52])"
      ]
     },
     "execution_count": 160,
     "metadata": {},
     "output_type": "execute_result"
    }
   ],
   "source": [
    "x1"
   ]
  },
  {
   "cell_type": "code",
   "execution_count": 161,
   "id": "1adcf3d8",
   "metadata": {},
   "outputs": [
    {
     "data": {
      "text/plain": [
       "tensor([ 92, 156, 155, 118, 131])"
      ]
     },
     "execution_count": 161,
     "metadata": {},
     "output_type": "execute_result"
    }
   ],
   "source": [
    "y1"
   ]
  },
  {
   "cell_type": "code",
   "execution_count": 177,
   "id": "f00d3546",
   "metadata": {},
   "outputs": [],
   "source": [
    "w = x2 - x1\n",
    "h = y2 - y1"
   ]
  },
  {
   "cell_type": "code",
   "execution_count": 211,
   "id": "38efee9f",
   "metadata": {},
   "outputs": [],
   "source": [
    "winc = torch.ceil(w / 7).long()\n",
    "hinc = torch.ceil(h / 7).long()"
   ]
  },
  {
   "cell_type": "code",
   "execution_count": 212,
   "id": "c0ecdc02",
   "metadata": {},
   "outputs": [],
   "source": [
    "subrois_x1 = []\n",
    "subrois_x2 = []\n",
    "subrois_y1 = []\n",
    "subrois_y2 = []\n",
    "for i in range(7):\n",
    "    cur_y1 = y1 + hinc * i\n",
    "    if i < 6:\n",
    "        cur_y2 = y1 + hinc * (i + 1) - 1\n",
    "    else:\n",
    "        cur_y2 = y2\n",
    "    for j in range(7):\n",
    "        cur_x1 = x1 + winc * j\n",
    "        if j < 6:\n",
    "            cur_x2 = x1 + winc * (j + 1) - 1\n",
    "        else:\n",
    "            cur_x2 = x2\n",
    "            \n",
    "        subrois_x1.append(cur_x1)\n",
    "        subrois_y1.append(cur_y1)\n",
    "        subrois_x2.append(cur_x2)\n",
    "        subrois_y2.append(cur_y2)"
   ]
  },
  {
   "cell_type": "code",
   "execution_count": 213,
   "id": "4607cb7c",
   "metadata": {},
   "outputs": [],
   "source": [
    "sx1 = torch.cat(subrois_x1, dim=-1).reshape(7, 7, 5).permute(2, 1, 0)\n",
    "sy1 = torch.cat(subrois_y1, dim=-1).reshape(7, 7, 5).permute(2, 1, 0)\n",
    "sx2 = torch.cat(subrois_x2, dim=-1).reshape(7, 7, 5).permute(2, 1, 0)\n",
    "sy2 = torch.cat(subrois_y2, dim=-1).reshape(7, 7, 5).permute(2, 1, 0)"
   ]
  },
  {
   "cell_type": "code",
   "execution_count": 214,
   "id": "8855fd7a",
   "metadata": {},
   "outputs": [],
   "source": [
    "rois_index_sub = rois_index.reshape(-1, 1, 1).repeat(1, 7, 7)"
   ]
  },
  {
   "cell_type": "code",
   "execution_count": 215,
   "id": "8918af80",
   "metadata": {},
   "outputs": [],
   "source": [
    "v1 = xpower_cumsum[rois_index_sub, :, sx1, sy1]"
   ]
  },
  {
   "cell_type": "code",
   "execution_count": 216,
   "id": "655375ef",
   "metadata": {},
   "outputs": [
    {
     "data": {
      "text/plain": [
       "torch.Size([5, 7, 7, 256])"
      ]
     },
     "execution_count": 216,
     "metadata": {},
     "output_type": "execute_result"
    }
   ],
   "source": [
    "v1.size()"
   ]
  },
  {
   "cell_type": "code",
   "execution_count": null,
   "id": "d4909fc5",
   "metadata": {},
   "outputs": [],
   "source": []
  },
  {
   "cell_type": "code",
   "execution_count": null,
   "id": "7eb1f1b8",
   "metadata": {},
   "outputs": [],
   "source": []
  },
  {
   "cell_type": "code",
   "execution_count": null,
   "id": "6fe09202",
   "metadata": {},
   "outputs": [],
   "source": []
  }
 ],
 "metadata": {
  "kernelspec": {
   "display_name": "Python 3 (ipykernel)",
   "language": "python",
   "name": "python3"
  },
  "language_info": {
   "codemirror_mode": {
    "name": "ipython",
    "version": 3
   },
   "file_extension": ".py",
   "mimetype": "text/x-python",
   "name": "python",
   "nbconvert_exporter": "python",
   "pygments_lexer": "ipython3",
   "version": "3.9.12"
  }
 },
 "nbformat": 4,
 "nbformat_minor": 5
}
