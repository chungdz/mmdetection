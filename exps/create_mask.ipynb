{
 "cells": [
  {
   "cell_type": "code",
   "execution_count": 26,
   "id": "65e592fd",
   "metadata": {},
   "outputs": [],
   "source": [
    "import torch\n",
    "import torch.nn as nn\n",
    "import torch.nn.functional as F\n",
    "import sys"
   ]
  },
  {
   "cell_type": "code",
   "execution_count": 27,
   "id": "433e25b1",
   "metadata": {},
   "outputs": [],
   "source": [
    "feature_maps = (torch.randn(3, 256, 216, 184), torch.randn(3, 256, 108, 92), torch.randn(3, 256, 54, 46), torch.randn(3, 256, 27, 23))"
   ]
  },
  {
   "cell_type": "code",
   "execution_count": 28,
   "id": "6b9f8a58",
   "metadata": {},
   "outputs": [],
   "source": [
    "rois = torch.Tensor([[  0.0000, 557.9707, 366.0170, 697.4088, 566.9425],\n",
    "[  1.0000,   0.0000, 622.1016, 143.7075, 709.8333],\n",
    "[  1.0000,  16.5338, 620.5057, 197.3975, 710.6006],\n",
    "[  2.0000, 223.7691, 473.1749, 359.9460, 628.8488],\n",
    "[  2.0000, 208.7294, 522.8946, 341.2042, 643.8867]])"
   ]
  },
  {
   "cell_type": "code",
   "execution_count": 29,
   "id": "9bca9c97",
   "metadata": {},
   "outputs": [],
   "source": [
    "rois_index = rois[:, 0].long()"
   ]
  },
  {
   "cell_type": "code",
   "execution_count": 30,
   "id": "d04ae2e5",
   "metadata": {},
   "outputs": [],
   "source": [
    "rois_ = rois[:, 1:]"
   ]
  },
  {
   "cell_type": "code",
   "execution_count": 31,
   "id": "18147540",
   "metadata": {},
   "outputs": [],
   "source": [
    "i = 0\n",
    "curf = feature_maps[i]\n",
    "scale_factor = 4 * (i + 1)"
   ]
  },
  {
   "cell_type": "code",
   "execution_count": 32,
   "id": "b5acf45a",
   "metadata": {},
   "outputs": [],
   "source": [
    "rois_rescale = torch.round(rois_ / scale_factor).long()"
   ]
  },
  {
   "cell_type": "code",
   "execution_count": 33,
   "id": "e36d9a2a",
   "metadata": {},
   "outputs": [
    {
     "data": {
      "text/plain": [
       "tensor([0, 1, 1, 2, 2])"
      ]
     },
     "execution_count": 33,
     "metadata": {},
     "output_type": "execute_result"
    }
   ],
   "source": [
    "rois_index"
   ]
  },
  {
   "cell_type": "code",
   "execution_count": 34,
   "id": "d9a54364",
   "metadata": {},
   "outputs": [
    {
     "data": {
      "text/plain": [
       "tensor([[139,  92, 174, 142],\n",
       "        [  0, 156,  36, 177],\n",
       "        [  4, 155,  49, 178],\n",
       "        [ 56, 118,  90, 157],\n",
       "        [ 52, 131,  85, 161]])"
      ]
     },
     "execution_count": 34,
     "metadata": {},
     "output_type": "execute_result"
    }
   ],
   "source": [
    "rois_rescale"
   ]
  },
  {
   "cell_type": "code",
   "execution_count": 35,
   "id": "b534e6bc",
   "metadata": {},
   "outputs": [],
   "source": [
    "oneD_coordinate = torch.arange(curf.size(2) * curf.size(3)).reshape(1, curf.size(2), curf.size(3))\n",
    "y_coordinate = torch.floor(oneD_coordinate / curf.size(3))\n",
    "x_coordinate = oneD_coordinate % curf.size(3)"
   ]
  },
  {
   "cell_type": "code",
   "execution_count": 36,
   "id": "0b5cfeb1",
   "metadata": {},
   "outputs": [
    {
     "data": {
      "text/plain": [
       "tensor([[[    0,     1,     2,  ...,   181,   182,   183],\n",
       "         [  184,   185,   186,  ...,   365,   366,   367],\n",
       "         [  368,   369,   370,  ...,   549,   550,   551],\n",
       "         ...,\n",
       "         [39192, 39193, 39194,  ..., 39373, 39374, 39375],\n",
       "         [39376, 39377, 39378,  ..., 39557, 39558, 39559],\n",
       "         [39560, 39561, 39562,  ..., 39741, 39742, 39743]]])"
      ]
     },
     "execution_count": 36,
     "metadata": {},
     "output_type": "execute_result"
    }
   ],
   "source": [
    "oneD_coordinate"
   ]
  },
  {
   "cell_type": "code",
   "execution_count": 37,
   "id": "d18bb6e9",
   "metadata": {},
   "outputs": [
    {
     "data": {
      "text/plain": [
       "tensor([[[  0.,   0.,   0.,  ...,   0.,   0.,   0.],\n",
       "         [  1.,   1.,   1.,  ...,   1.,   1.,   1.],\n",
       "         [  2.,   2.,   2.,  ...,   2.,   2.,   2.],\n",
       "         ...,\n",
       "         [213., 213., 213.,  ..., 213., 213., 213.],\n",
       "         [214., 214., 214.,  ..., 214., 214., 214.],\n",
       "         [215., 215., 215.,  ..., 215., 215., 215.]]])"
      ]
     },
     "execution_count": 37,
     "metadata": {},
     "output_type": "execute_result"
    }
   ],
   "source": [
    "y_coordinate"
   ]
  },
  {
   "cell_type": "code",
   "execution_count": 38,
   "id": "f5bd00aa",
   "metadata": {},
   "outputs": [
    {
     "data": {
      "text/plain": [
       "tensor([[[  0,   1,   2,  ..., 181, 182, 183],\n",
       "         [  0,   1,   2,  ..., 181, 182, 183],\n",
       "         [  0,   1,   2,  ..., 181, 182, 183],\n",
       "         ...,\n",
       "         [  0,   1,   2,  ..., 181, 182, 183],\n",
       "         [  0,   1,   2,  ..., 181, 182, 183],\n",
       "         [  0,   1,   2,  ..., 181, 182, 183]]])"
      ]
     },
     "execution_count": 38,
     "metadata": {},
     "output_type": "execute_result"
    }
   ],
   "source": [
    "x_coordinate"
   ]
  },
  {
   "cell_type": "code",
   "execution_count": 39,
   "id": "84f1c124",
   "metadata": {},
   "outputs": [],
   "source": [
    "y_coordinate = y_coordinate.repeat(rois_rescale.size(0), 1, 1)\n",
    "x_coordinate = x_coordinate.repeat(rois_rescale.size(0), 1, 1)"
   ]
  },
  {
   "cell_type": "code",
   "execution_count": 40,
   "id": "af1138e3",
   "metadata": {},
   "outputs": [
    {
     "data": {
      "text/plain": [
       "torch.Size([5, 216, 184])"
      ]
     },
     "execution_count": 40,
     "metadata": {},
     "output_type": "execute_result"
    }
   ],
   "source": [
    "y_coordinate.size()"
   ]
  },
  {
   "cell_type": "code",
   "execution_count": 41,
   "id": "b63084ee",
   "metadata": {},
   "outputs": [],
   "source": [
    "one_mask = (x_coordinate >= rois_rescale[:, 0].reshape(-1, 1, 1)) & \\\n",
    "            (x_coordinate <= rois_rescale[:, 2].reshape(-1, 1, 1)) & \\\n",
    "            (y_coordinate >= rois_rescale[:, 1].reshape(-1, 1, 1)) & \\\n",
    "            (y_coordinate <= rois_rescale[:, 3].reshape(-1, 1, 1))"
   ]
  },
  {
   "cell_type": "code",
   "execution_count": 42,
   "id": "bf00f352",
   "metadata": {},
   "outputs": [
    {
     "data": {
      "text/plain": [
       "torch.Size([5, 1, 216, 184])"
      ]
     },
     "execution_count": 42,
     "metadata": {},
     "output_type": "execute_result"
    }
   ],
   "source": [
    "one_mask = one_mask.reshape(-1, 1, curf.size(2), curf.size(3))\n",
    "one_mask.size()"
   ]
  },
  {
   "cell_type": "code",
   "execution_count": 43,
   "id": "d2e17cb7",
   "metadata": {},
   "outputs": [
    {
     "data": {
      "text/plain": [
       "torch.Size([5, 256, 216, 184])"
      ]
     },
     "execution_count": 43,
     "metadata": {},
     "output_type": "execute_result"
    }
   ],
   "source": [
    "feature_for_rois = curf[rois_index]\n",
    "feature_for_rois.size()"
   ]
  },
  {
   "cell_type": "code",
   "execution_count": 44,
   "id": "b9732c4a",
   "metadata": {},
   "outputs": [
    {
     "data": {
      "text/plain": [
       "122093568"
      ]
     },
     "execution_count": 44,
     "metadata": {},
     "output_type": "execute_result"
    }
   ],
   "source": [
    "curf.element_size() * curf.nelement()"
   ]
  },
  {
   "cell_type": "code",
   "execution_count": 45,
   "id": "1e58dea0",
   "metadata": {},
   "outputs": [
    {
     "data": {
      "text/plain": [
       "5.57171630859375"
      ]
     },
     "execution_count": 45,
     "metadata": {},
     "output_type": "execute_result"
    }
   ],
   "source": [
    "# 过大，不能这么做，用其他办法，比如深度换广度\n",
    "122093568 * 49 / 1073741824"
   ]
  },
  {
   "cell_type": "code",
   "execution_count": 46,
   "id": "191e7021",
   "metadata": {},
   "outputs": [
    {
     "data": {
      "text/plain": [
       "tensor([False, False, False, False, False, False, False, False, False, False,\n",
       "        False, False, False, False, False, False, False, False, False, False,\n",
       "        False, False, False, False, False, False, False, False, False, False,\n",
       "        False, False, False, False, False, False, False, False, False, False,\n",
       "        False, False, False, False, False, False, False, False, False, False,\n",
       "        False, False, False, False, False, False, False, False, False, False,\n",
       "        False, False, False, False, False, False, False, False, False, False,\n",
       "        False, False, False, False, False, False, False, False, False, False,\n",
       "        False, False, False, False, False, False, False, False, False, False,\n",
       "        False, False, False, False, False, False, False, False, False, False,\n",
       "        False, False, False, False, False, False, False, False, False, False,\n",
       "        False, False, False, False, False, False, False, False, False, False,\n",
       "        False, False, False, False, False, False, False, False, False, False,\n",
       "        False, False, False, False, False, False, False, False, False, False,\n",
       "        False, False, False, False, False, False, False, False, False, False,\n",
       "        False, False, False, False, False, False, False, False, False, False,\n",
       "        False, False, False, False, False, False, False, False, False, False,\n",
       "        False, False, False, False, False, False, False, False, False, False,\n",
       "        False, False, False, False])"
      ]
     },
     "execution_count": 46,
     "metadata": {},
     "output_type": "execute_result"
    }
   ],
   "source": [
    "one_mask[1][0][92]"
   ]
  },
  {
   "cell_type": "code",
   "execution_count": 47,
   "id": "1f84a563",
   "metadata": {},
   "outputs": [],
   "source": [
    "masked = feature_for_rois.masked_fill_(~one_mask, 0)"
   ]
  },
  {
   "cell_type": "code",
   "execution_count": 48,
   "id": "602bb17f",
   "metadata": {},
   "outputs": [
    {
     "data": {
      "text/plain": [
       "tensor([-1.0733, -0.0987,  1.0486,  0.3846, -0.2713,  0.6711, -1.6563,  1.7042,\n",
       "         0.9191, -0.7272,  1.1034,  0.0026, -0.4326,  1.6772,  0.0560,  0.2816,\n",
       "         0.8218,  0.1034,  0.6547, -0.8347,  0.8229, -0.4328,  0.5896,  0.9136,\n",
       "        -1.0090, -0.1894, -1.3477,  0.2294, -0.0620, -0.6081, -0.2344, -0.8739,\n",
       "        -0.7584,  0.8919,  0.8030,  1.6139, -1.2724,  0.0000,  0.0000,  0.0000,\n",
       "         0.0000,  0.0000,  0.0000,  0.0000,  0.0000,  0.0000,  0.0000,  0.0000,\n",
       "         0.0000,  0.0000,  0.0000,  0.0000,  0.0000,  0.0000,  0.0000,  0.0000,\n",
       "         0.0000,  0.0000,  0.0000,  0.0000,  0.0000,  0.0000,  0.0000,  0.0000,\n",
       "         0.0000,  0.0000,  0.0000,  0.0000,  0.0000,  0.0000,  0.0000,  0.0000,\n",
       "         0.0000,  0.0000,  0.0000,  0.0000,  0.0000,  0.0000,  0.0000,  0.0000,\n",
       "         0.0000,  0.0000,  0.0000,  0.0000,  0.0000,  0.0000,  0.0000,  0.0000,\n",
       "         0.0000,  0.0000,  0.0000,  0.0000,  0.0000,  0.0000,  0.0000,  0.0000,\n",
       "         0.0000,  0.0000,  0.0000,  0.0000,  0.0000,  0.0000,  0.0000,  0.0000,\n",
       "         0.0000,  0.0000,  0.0000,  0.0000,  0.0000,  0.0000,  0.0000,  0.0000,\n",
       "         0.0000,  0.0000,  0.0000,  0.0000,  0.0000,  0.0000,  0.0000,  0.0000,\n",
       "         0.0000,  0.0000,  0.0000,  0.0000,  0.0000,  0.0000,  0.0000,  0.0000,\n",
       "         0.0000,  0.0000,  0.0000,  0.0000,  0.0000,  0.0000,  0.0000,  0.0000,\n",
       "         0.0000,  0.0000,  0.0000,  0.0000,  0.0000,  0.0000,  0.0000,  0.0000,\n",
       "         0.0000,  0.0000,  0.0000,  0.0000,  0.0000,  0.0000,  0.0000,  0.0000,\n",
       "         0.0000,  0.0000,  0.0000,  0.0000,  0.0000,  0.0000,  0.0000,  0.0000,\n",
       "         0.0000,  0.0000,  0.0000,  0.0000,  0.0000,  0.0000,  0.0000,  0.0000,\n",
       "         0.0000,  0.0000,  0.0000,  0.0000,  0.0000,  0.0000,  0.0000,  0.0000,\n",
       "         0.0000,  0.0000,  0.0000,  0.0000,  0.0000,  0.0000,  0.0000,  0.0000])"
      ]
     },
     "execution_count": 48,
     "metadata": {},
     "output_type": "execute_result"
    }
   ],
   "source": [
    "masked[1][0][156]"
   ]
  },
  {
   "cell_type": "code",
   "execution_count": 49,
   "id": "9bd7f419",
   "metadata": {},
   "outputs": [
    {
     "data": {
      "text/plain": [
       "torch.Size([5, 256, 216, 184])"
      ]
     },
     "execution_count": 49,
     "metadata": {},
     "output_type": "execute_result"
    }
   ],
   "source": [
    "masked.size()"
   ]
  },
  {
   "cell_type": "code",
   "execution_count": 50,
   "id": "ef9fd001",
   "metadata": {},
   "outputs": [],
   "source": [
    "# 方案二：\n",
    "# 把x的power的cumsum算出来之后再根据坐标相减\n",
    "# e.g. 对x1 y1 x2 y2来说\n",
    "# 他们的和等于的是\n",
    "# cumsum[x2][y2] - cumsum[x1][y2] - cumsum[x2][y1] + cumsum[x1][y1]"
   ]
  },
  {
   "cell_type": "code",
   "execution_count": 51,
   "id": "930f589e",
   "metadata": {},
   "outputs": [
    {
     "data": {
      "text/plain": [
       "torch.Size([3, 256, 216, 184])"
      ]
     },
     "execution_count": 51,
     "metadata": {},
     "output_type": "execute_result"
    }
   ],
   "source": [
    "curf = feature_maps[0]\n",
    "curf.size()"
   ]
  },
  {
   "cell_type": "code",
   "execution_count": 52,
   "id": "f420ee8c",
   "metadata": {},
   "outputs": [],
   "source": [
    "p = nn.Parameter(torch.Tensor([3, 3, 3, 3]))\n",
    "minimumx = nn.Parameter(torch.Tensor([1e-6]), requires_grad=False)"
   ]
  },
  {
   "cell_type": "code",
   "execution_count": 53,
   "id": "6ccf6684",
   "metadata": {},
   "outputs": [],
   "source": [
    "xpower = torch.pow(torch.maximum(curf, minimumx), p[0])"
   ]
  },
  {
   "cell_type": "code",
   "execution_count": 54,
   "id": "13f5e9cb",
   "metadata": {},
   "outputs": [],
   "source": [
    "xpower_cumsum = xpower.cumsum(2).cumsum(3)"
   ]
  },
  {
   "cell_type": "code",
   "execution_count": 55,
   "id": "1aee0b87",
   "metadata": {},
   "outputs": [
    {
     "data": {
      "text/plain": [
       "torch.Size([3, 256, 216, 184])"
      ]
     },
     "execution_count": 55,
     "metadata": {},
     "output_type": "execute_result"
    }
   ],
   "source": [
    "xpower_cumsum.size()"
   ]
  },
  {
   "cell_type": "code",
   "execution_count": 56,
   "id": "5e2cfc78",
   "metadata": {},
   "outputs": [],
   "source": [
    "x1 = rois_rescale[:, 0]\n",
    "y1 = rois_rescale[:, 1]\n",
    "x2 = rois_rescale[:, 2]\n",
    "y2 = rois_rescale[:, 3]"
   ]
  },
  {
   "cell_type": "code",
   "execution_count": 57,
   "id": "a7ed6868",
   "metadata": {},
   "outputs": [
    {
     "data": {
      "text/plain": [
       "torch.Size([5])"
      ]
     },
     "execution_count": 57,
     "metadata": {},
     "output_type": "execute_result"
    }
   ],
   "source": [
    "x1.size()"
   ]
  },
  {
   "cell_type": "code",
   "execution_count": 62,
   "id": "4e01bf0b",
   "metadata": {},
   "outputs": [],
   "source": [
    "v1 = xpower_cumsum[rois_index, :, y1, x1]\n",
    "v2 = xpower_cumsum[rois_index, :, y2, x2]\n",
    "v3 = xpower_cumsum[rois_index, :, y2, x1]\n",
    "v4 = xpower_cumsum[rois_index, :, y2, x2]\n",
    "\n",
    "roi_power_sum = v4 - v3 - v2 + v1"
   ]
  },
  {
   "cell_type": "code",
   "execution_count": 63,
   "id": "37a4b640",
   "metadata": {},
   "outputs": [
    {
     "data": {
      "text/plain": [
       "torch.Size([5, 256])"
      ]
     },
     "execution_count": 63,
     "metadata": {},
     "output_type": "execute_result"
    }
   ],
   "source": [
    "roi_power_sum.size()"
   ]
  },
  {
   "cell_type": "code",
   "execution_count": 64,
   "id": "503c7844",
   "metadata": {},
   "outputs": [
    {
     "data": {
      "text/plain": [
       "tensor([139,   0,   4,  56,  52])"
      ]
     },
     "execution_count": 64,
     "metadata": {},
     "output_type": "execute_result"
    }
   ],
   "source": [
    "x1"
   ]
  },
  {
   "cell_type": "code",
   "execution_count": 65,
   "id": "0ccab5e3",
   "metadata": {},
   "outputs": [
    {
     "data": {
      "text/plain": [
       "tensor([ 92, 156, 155, 118, 131])"
      ]
     },
     "execution_count": 65,
     "metadata": {},
     "output_type": "execute_result"
    }
   ],
   "source": [
    "y1"
   ]
  },
  {
   "cell_type": "code",
   "execution_count": 66,
   "id": "58795892",
   "metadata": {},
   "outputs": [
    {
     "data": {
      "text/plain": [
       "tensor(10322.5391, grad_fn=<SelectBackward0>)"
      ]
     },
     "execution_count": 66,
     "metadata": {},
     "output_type": "execute_result"
    }
   ],
   "source": [
    "xpower_cumsum[0, 0, 92, 139]"
   ]
  },
  {
   "cell_type": "code",
   "execution_count": 67,
   "id": "c9c82634",
   "metadata": {},
   "outputs": [
    {
     "data": {
      "text/plain": [
       "tensor(10322.5391, grad_fn=<SelectBackward0>)"
      ]
     },
     "execution_count": 67,
     "metadata": {},
     "output_type": "execute_result"
    }
   ],
   "source": [
    "v1[0][0]"
   ]
  },
  {
   "cell_type": "code",
   "execution_count": 37,
   "id": "9cb5745f",
   "metadata": {},
   "outputs": [
    {
     "data": {
      "text/plain": [
       "tensor(0.8135)"
      ]
     },
     "execution_count": 37,
     "metadata": {},
     "output_type": "execute_result"
    }
   ],
   "source": [
    "origin = curf[rois_index, :, x1, y1]\n",
    "origin[0][0]"
   ]
  },
  {
   "cell_type": "code",
   "execution_count": 38,
   "id": "bc0bc429",
   "metadata": {},
   "outputs": [
    {
     "data": {
      "text/plain": [
       "tensor([139,   0,   4,  56,  52])"
      ]
     },
     "execution_count": 38,
     "metadata": {},
     "output_type": "execute_result"
    }
   ],
   "source": [
    "x1"
   ]
  },
  {
   "cell_type": "code",
   "execution_count": 39,
   "id": "6fb6e46c",
   "metadata": {},
   "outputs": [
    {
     "data": {
      "text/plain": [
       "tensor([ 92, 156, 155, 118, 131])"
      ]
     },
     "execution_count": 39,
     "metadata": {},
     "output_type": "execute_result"
    }
   ],
   "source": [
    "y1"
   ]
  },
  {
   "cell_type": "code",
   "execution_count": 40,
   "id": "6f6fcf0c",
   "metadata": {},
   "outputs": [],
   "source": [
    "w = x2 - x1\n",
    "h = y2 - y1"
   ]
  },
  {
   "cell_type": "code",
   "execution_count": 41,
   "id": "2be9db3d",
   "metadata": {},
   "outputs": [],
   "source": [
    "winc = torch.ceil(w / 7).long()\n",
    "hinc = torch.ceil(h / 7).long()"
   ]
  },
  {
   "cell_type": "code",
   "execution_count": 42,
   "id": "53191449",
   "metadata": {},
   "outputs": [],
   "source": [
    "subrois_x1 = []\n",
    "subrois_x2 = []\n",
    "subrois_y1 = []\n",
    "subrois_y2 = []\n",
    "subrois_area = []\n",
    "for i in range(7):\n",
    "    cur_y1 = y1 + hinc * i\n",
    "    if i < 6:\n",
    "        cur_y2 = y1 + hinc * (i + 1) - 1\n",
    "    else:\n",
    "        cur_y2 = y2\n",
    "    for j in range(7):\n",
    "        cur_x1 = x1 + winc * j\n",
    "        if j < 6:\n",
    "            cur_x2 = x1 + winc * (j + 1) - 1\n",
    "        else:\n",
    "            cur_x2 = x2\n",
    "            \n",
    "        subrois_x1.append(cur_x1)\n",
    "        subrois_y1.append(cur_y1)\n",
    "        subrois_x2.append(cur_x2)\n",
    "        subrois_y2.append(cur_y2)\n",
    "        \n",
    "        subarea = (cur_x2 - cur_x1 + 1) * (cur_y2 - cur_y1 + 1)\n",
    "        subrois_area.append(subarea)"
   ]
  },
  {
   "cell_type": "code",
   "execution_count": 43,
   "id": "7c0170a4",
   "metadata": {},
   "outputs": [],
   "source": [
    "sx1 = torch.cat(subrois_x1, dim=-1).reshape(7, 7, 5).permute(2, 1, 0)\n",
    "sy1 = torch.cat(subrois_y1, dim=-1).reshape(7, 7, 5).permute(2, 1, 0)\n",
    "sx2 = torch.cat(subrois_x2, dim=-1).reshape(7, 7, 5).permute(2, 1, 0)\n",
    "sy2 = torch.cat(subrois_y2, dim=-1).reshape(7, 7, 5).permute(2, 1, 0)\n",
    "ss = torch.cat(subrois_area, dim=-1).reshape(7, 7, 5).permute(2, 1, 0)"
   ]
  },
  {
   "cell_type": "code",
   "execution_count": 44,
   "id": "05bad7d0",
   "metadata": {},
   "outputs": [],
   "source": [
    "rois_index_sub = rois_index.reshape(-1, 1, 1).repeat(1, 7, 7)"
   ]
  },
  {
   "cell_type": "code",
   "execution_count": 45,
   "id": "ff8380fc",
   "metadata": {},
   "outputs": [],
   "source": [
    "v1 = xpower_cumsum[rois_index_sub, :, sx1, sy1]\n",
    "v2 = xpower_cumsum[rois_index_sub, :, sx1, sy2]\n",
    "v3 = xpower_cumsum[rois_index_sub, :, sx2, sy1]\n",
    "v4 = xpower_cumsum[rois_index_sub, :, sx2, sy2]"
   ]
  },
  {
   "cell_type": "code",
   "execution_count": 46,
   "id": "e6025694",
   "metadata": {},
   "outputs": [],
   "source": [
    "subroi_power_sum = v4 - v3 - v2 + v1"
   ]
  },
  {
   "cell_type": "code",
   "execution_count": 47,
   "id": "4f330e1f",
   "metadata": {},
   "outputs": [
    {
     "data": {
      "text/plain": [
       "torch.Size([5, 7, 7, 256])"
      ]
     },
     "execution_count": 47,
     "metadata": {},
     "output_type": "execute_result"
    }
   ],
   "source": [
    "subroi_power_sum.size()"
   ]
  },
  {
   "cell_type": "code",
   "execution_count": 48,
   "id": "4672c6a3",
   "metadata": {},
   "outputs": [],
   "source": [
    "subroi_mean = subroi_power_sum / ss.unsqueeze(-1)"
   ]
  },
  {
   "cell_type": "code",
   "execution_count": 49,
   "id": "f29886e1",
   "metadata": {},
   "outputs": [
    {
     "data": {
      "text/plain": [
       "torch.Size([5, 7, 7, 1])"
      ]
     },
     "execution_count": 49,
     "metadata": {},
     "output_type": "execute_result"
    }
   ],
   "source": [
    "ss.unsqueeze(-1).size()"
   ]
  },
  {
   "cell_type": "code",
   "execution_count": 50,
   "id": "e1291770",
   "metadata": {},
   "outputs": [],
   "source": [
    "proj = nn.ModuleList([nn.Conv2d(256, 256, 1, 1, 0) for _ in range(4)])"
   ]
  },
  {
   "cell_type": "code",
   "execution_count": 51,
   "id": "8644b8ce",
   "metadata": {},
   "outputs": [],
   "source": [
    "gem = torch.pow(subroi_mean, 1.0 / p[0])"
   ]
  },
  {
   "cell_type": "code",
   "execution_count": 53,
   "id": "a758f697",
   "metadata": {},
   "outputs": [],
   "source": [
    "feat_level = proj[0](gem.permute(0, 3, 1, 2))"
   ]
  },
  {
   "cell_type": "code",
   "execution_count": null,
   "id": "c40bbe44",
   "metadata": {},
   "outputs": [],
   "source": [
    "## test all"
   ]
  },
  {
   "cell_type": "code",
   "execution_count": 1,
   "id": "c0cc5378",
   "metadata": {},
   "outputs": [],
   "source": [
    "import torch\n",
    "import torch.nn as nn\n",
    "import torch.nn.functional as F\n",
    "import sys"
   ]
  },
  {
   "cell_type": "code",
   "execution_count": 2,
   "id": "7b46e738",
   "metadata": {},
   "outputs": [],
   "source": [
    "def map_roi_levels(rois, num_levels):\n",
    "        \"\"\"Map rois to corresponding feature levels by scales.\n",
    "\n",
    "        - scale < finest_scale * 2: level 0\n",
    "        - finest_scale * 2 <= scale < finest_scale * 4: level 1\n",
    "        - finest_scale * 4 <= scale < finest_scale * 8: level 2\n",
    "        - scale >= finest_scale * 8: level 3\n",
    "\n",
    "        Args:\n",
    "            rois (Tensor): Input RoIs, shape (k, 5).\n",
    "            num_levels (int): Total level number.\n",
    "\n",
    "        Returns:\n",
    "            Tensor: Level index (0-based) of each RoI, shape (k, )\n",
    "        \"\"\"\n",
    "        scale = torch.sqrt(\n",
    "            (rois[:, 3] - rois[:, 1]) * (rois[:, 4] - rois[:, 2]))\n",
    "        target_lvls = torch.floor(torch.log2(scale / 56 + 1e-6))\n",
    "        target_lvls = target_lvls.clamp(min=0, max=num_levels - 1).long()\n",
    "        return target_lvls"
   ]
  },
  {
   "cell_type": "code",
   "execution_count": 112,
   "id": "a6781727",
   "metadata": {},
   "outputs": [],
   "source": [
    "feats = (torch.relu(torch.randn(3, 256, 224, 168)), torch.relu(torch.randn(3, 256, 112, 84)), torch.relu(torch.randn(3, 256, 56, 42)), torch.relu(torch.randn(3, 256, 28, 21))\n",
    "rois = torch.Tensor([[  0.0000,  44.5265, 533.2392, 123.3619, 646.8044],\n",
    "[  0.0000, 483.3849, 414.3447, 544.0000, 561.0616],\n",
    "[  0.0000, 464.8555, 361.8051, 544.0000, 513.1793],\n",
    "[  2.0000, 212.0784, 225.8543, 254.5084, 249.5771],\n",
    "[  2.0000, 247.9729, 760.3569, 292.2449, 782.3408],\n",
    "[  2.0000, 370.9329, 319.0714, 461.9206, 359.8063],\n",
    "[  0.0000,   0.0000, 546.8749, 138.5107, 643.9124],\n",
    "[  0.0000,  20.2614, 524.2296, 143.1214, 654.5751],\n",
    "[  0.0000, 338.6020, 213.8744, 470.8668, 356.2858],\n",
    "[  2.0000, 563.3346, 466.3733, 672.0000, 598.5251],\n",
    "[  2.0000, 191.0886,  11.1537, 368.5119, 110.5652],\n",
    "[  2.0000, 147.9487, 314.7806, 279.8951, 450.1862],\n",
    "[0.0000e+00, 8.1635e+00, 3.1470e+02, 2.9839e+02, 5.9779e+02],\n",
    "[0.0000e+00, 1.0332e+02, 3.1823e+02, 3.7490e+02, 6.1636e+02],\n",
    "[0.0000e+00, 0.0000e+00, 2.6797e+02, 2.4527e+02, 5.2831e+02],\n",
    "[0.0000e+00, 2.6465e+02, 3.3791e+02, 5.4215e+02, 6.2000e+02],\n",
    "[0.0000e+00, 0.0000e+00, 4.0628e+01, 1.4740e+02, 4.4955e+02],\n",
    "[0.0000e+00, 3.2377e+02, 2.4155e+02, 5.4400e+02, 5.2082e+02],\n",
    "[0.0000e+00, 3.2348e+02, 3.1718e+02, 5.4400e+02, 6.0229e+02],\n",
    "[0.0000e+00, 2.3139e+02, 2.3201e+02, 5.4400e+02, 8.1500e+02],\n",
    "[0.0000e+00, 3.5330e+02, 4.1191e+02, 5.4400e+02, 6.9351e+02],\n",
    "[0.0000e+00, 3.3930e+02, 4.8037e+02, 5.4400e+02, 7.5963e+02],\n",
    "[0.0000e+00, 1.1803e+02, 4.6942e+02, 3.7715e+02, 7.5625e+02],\n",
    "[0.0000e+00, 6.3730e+01, 3.5782e+02, 3.4386e+02, 6.3828e+02],\n",
    "[0.0000e+00, 4.6200e+01, 4.2272e+02, 3.1291e+02, 6.9105e+02],\n",
    "[0.0000e+00, 0.0000e+00, 2.2000e+02, 2.1545e+02, 4.8887e+02],\n",
    "[0.0000e+00, 2.3805e+02, 0.0000e+00, 5.0801e+02, 2.1661e+02],\n",
    "[  0.0000,  54.9208, 167.9849, 544.0000, 757.0776],\n",
    "[  0.0000,   0.0000, 139.9310, 483.0693, 706.0065],\n",
    "[  0.0000,  83.9238, 311.6150, 544.0000, 815.0000],\n",
    "[  0.0000,   0.0000,   0.0000, 423.8024, 520.2032],\n",
    "[  0.0000, 157.6781,   0.0000, 491.9783, 657.8700],\n",
    "[  0.0000,  93.0500,   0.0000, 441.3786, 755.1307],\n",
    "[  1.0000,   0.0000,   0.0000, 480.0000, 760.3838],])"
   ]
  },
  {
   "cell_type": "code",
   "execution_count": 4,
   "id": "e81cefc1",
   "metadata": {},
   "outputs": [],
   "source": [
    "p = nn.Parameter(torch.Tensor([3, 3, 3, 3]))\n",
    "proj = nn.ModuleList([nn.Conv2d(256, 256, 1, 1, 0) for _ in range(4)])\n",
    "minimumx = nn.Parameter(torch.Tensor([1e-6]), requires_grad=False)\n",
    "featmap_strides = [4, 8, 16, 32]\n",
    "rlen = len(rois)"
   ]
  },
  {
   "cell_type": "code",
   "execution_count": 5,
   "id": "3d99e69e",
   "metadata": {},
   "outputs": [],
   "source": [
    "num_levels = len(feats)"
   ]
  },
  {
   "cell_type": "code",
   "execution_count": 6,
   "id": "7600ab3b",
   "metadata": {},
   "outputs": [],
   "source": [
    "target_lvls = map_roi_levels(rois, num_levels)"
   ]
  },
  {
   "cell_type": "code",
   "execution_count": 7,
   "id": "864d5c98",
   "metadata": {},
   "outputs": [
    {
     "data": {
      "text/plain": [
       "34"
      ]
     },
     "execution_count": 7,
     "metadata": {},
     "output_type": "execute_result"
    }
   ],
   "source": [
    "len(target_lvls)"
   ]
  },
  {
   "cell_type": "code",
   "execution_count": 111,
   "id": "926c05c9",
   "metadata": {},
   "outputs": [
    {
     "name": "stdout",
     "output_type": "stream",
     "text": [
      "curf torch.Size([3, 256, 224, 168]) tensor(0)\n",
      "tensor([[ 11, 133,  31, 162],\n",
      "        [121, 104, 136, 140],\n",
      "        [116,  90, 136, 128],\n",
      "        [ 53,  56,  64,  62],\n",
      "        [ 62, 190,  73, 196],\n",
      "        [ 93,  80, 115,  90],\n",
      "        [  0, 137,  35, 161],\n",
      "        [  5, 131,  36, 164],\n",
      "        [ 85,  53, 118,  89],\n",
      "        [141, 117, 168, 150],\n",
      "        [ 48,   3,  92,  28],\n",
      "        [ 37,  79,  70, 113],\n",
      "        [  2,  79,  75, 149],\n",
      "        [ 26,  80,  94, 154],\n",
      "        [  0,  67,  61, 132],\n",
      "        [ 66,  84, 136, 155],\n",
      "        [  0,  10,  37, 112],\n",
      "        [ 81,  60, 136, 130],\n",
      "        [ 81,  79, 136, 151],\n",
      "        [ 58,  58, 136, 204],\n",
      "        [ 88, 103, 136, 173],\n",
      "        [ 85, 120, 136, 190],\n",
      "        [ 30, 117,  94, 189],\n",
      "        [ 16,  89,  86, 160],\n",
      "        [ 12, 106,  78, 173],\n",
      "        [  0,  55,  54, 122],\n",
      "        [ 60,   0, 127,  54],\n",
      "        [ 14,  42, 136, 189],\n",
      "        [  0,  35, 121, 177],\n",
      "        [ 21,  78, 136, 204],\n",
      "        [  0,   0, 106, 130],\n",
      "        [ 39,   0, 123, 164],\n",
      "        [ 23,   0, 110, 189],\n",
      "        [  0,   0, 120, 190]])\n",
      "w and h tensor(0) tensor(0)\n",
      "winc and hinc tensor(0) tensor(0)\n",
      "ss torch.Size([34, 7, 7]) tensor(0)\n",
      "ss <= 0 tensor(0)\n",
      "subroi_power_sum torch.Size([34, 7, 7, 256]) tensor(0)\n",
      "subroi_power_sum <= 0 tensor(12970)\n",
      "subroi_mean torch.Size([34, 7, 7, 256]) tensor(0)\n",
      "gem torch.Size([34, 7, 7, 256]) tensor(815)\n",
      "curf torch.Size([3, 256, 112, 84]) tensor(0)\n",
      "tensor([[  6,  67,  15,  81],\n",
      "        [ 60,  52,  68,  70],\n",
      "        [ 58,  45,  68,  64],\n",
      "        [ 27,  28,  32,  31],\n",
      "        [ 31,  95,  37,  98],\n",
      "        [ 46,  40,  58,  45],\n",
      "        [  0,  68,  17,  80],\n",
      "        [  3,  66,  18,  82],\n",
      "        [ 42,  27,  59,  45],\n",
      "        [ 70,  58,  84,  75],\n",
      "        [ 24,   1,  46,  14],\n",
      "        [ 18,  39,  35,  56],\n",
      "        [  1,  39,  37,  75],\n",
      "        [ 13,  40,  47,  77],\n",
      "        [  0,  33,  31,  66],\n",
      "        [ 33,  42,  68,  78],\n",
      "        [  0,   5,  18,  56],\n",
      "        [ 40,  30,  68,  65],\n",
      "        [ 40,  40,  68,  75],\n",
      "        [ 29,  29,  68, 102],\n",
      "        [ 44,  51,  68,  87],\n",
      "        [ 42,  60,  68,  95],\n",
      "        [ 15,  59,  47,  95],\n",
      "        [  8,  45,  43,  80],\n",
      "        [  6,  53,  39,  86],\n",
      "        [  0,  28,  27,  61],\n",
      "        [ 30,   0,  64,  27],\n",
      "        [  7,  21,  68,  95],\n",
      "        [  0,  17,  60,  88],\n",
      "        [ 10,  39,  68, 102],\n",
      "        [  0,   0,  53,  65],\n",
      "        [ 20,   0,  61,  82],\n",
      "        [ 12,   0,  55,  94],\n",
      "        [  0,   0,  60,  95]])\n",
      "w and h tensor(0) tensor(0)\n",
      "winc and hinc tensor(0) tensor(0)\n",
      "ss torch.Size([34, 7, 7]) tensor(0)\n",
      "ss <= 0 tensor(0)\n",
      "subroi_power_sum torch.Size([34, 7, 7, 256]) tensor(0)\n",
      "subroi_power_sum <= 0 tensor(45729)\n",
      "subroi_mean torch.Size([34, 7, 7, 256]) tensor(0)\n",
      "gem torch.Size([34, 7, 7, 256]) tensor(0)\n",
      "curf torch.Size([3, 256, 56, 42]) tensor(0)\n",
      "tensor([[ 3, 33,  8, 40],\n",
      "        [30, 26, 34, 35],\n",
      "        [29, 23, 34, 32],\n",
      "        [13, 14, 16, 16],\n",
      "        [15, 48, 18, 49],\n",
      "        [23, 20, 29, 22],\n",
      "        [ 0, 34,  9, 40],\n",
      "        [ 1, 33,  9, 41],\n",
      "        [21, 13, 29, 22],\n",
      "        [35, 29, 42, 37],\n",
      "        [12,  1, 23,  7],\n",
      "        [ 9, 20, 17, 28],\n",
      "        [ 1, 20, 19, 37],\n",
      "        [ 6, 20, 23, 39],\n",
      "        [ 0, 17, 15, 33],\n",
      "        [17, 21, 34, 39],\n",
      "        [ 0,  3,  9, 28],\n",
      "        [20, 15, 34, 33],\n",
      "        [20, 20, 34, 38],\n",
      "        [14, 15, 34, 51],\n",
      "        [22, 26, 34, 43],\n",
      "        [21, 30, 34, 47],\n",
      "        [ 7, 29, 24, 47],\n",
      "        [ 4, 22, 21, 40],\n",
      "        [ 3, 26, 20, 43],\n",
      "        [ 0, 14, 13, 31],\n",
      "        [15,  0, 32, 14],\n",
      "        [ 3, 10, 34, 47],\n",
      "        [ 0,  9, 30, 44],\n",
      "        [ 5, 19, 34, 51],\n",
      "        [ 0,  0, 26, 33],\n",
      "        [10,  0, 31, 41],\n",
      "        [ 6,  0, 28, 47],\n",
      "        [ 0,  0, 30, 48]])\n",
      "w and h tensor(0) tensor(0)\n",
      "winc and hinc tensor(0) tensor(0)\n",
      "ss torch.Size([34, 7, 7]) tensor(0)\n",
      "ss <= 0 tensor(0)\n",
      "subroi_power_sum torch.Size([34, 7, 7, 256]) tensor(0)\n",
      "subroi_power_sum <= 0 tensor(108219)\n",
      "subroi_mean torch.Size([34, 7, 7, 256]) tensor(0)\n",
      "gem torch.Size([34, 7, 7, 256]) tensor(0)\n",
      "curf torch.Size([3, 256, 28, 21]) tensor(0)\n",
      "tensor([[ 1, 17,  4, 20],\n",
      "        [15, 13, 17, 18],\n",
      "        [15, 11, 17, 16],\n",
      "        [ 7,  7,  8,  8],\n",
      "        [ 8, 24,  9, 24],\n",
      "        [12, 10, 14, 11],\n",
      "        [ 0, 17,  4, 20],\n",
      "        [ 1, 16,  4, 20],\n",
      "        [11,  7, 15, 11],\n",
      "        [18, 15, 21, 19],\n",
      "        [ 6,  0, 12,  3],\n",
      "        [ 5, 10,  9, 14],\n",
      "        [ 0, 10,  9, 19],\n",
      "        [ 3, 10, 12, 19],\n",
      "        [ 0,  8,  8, 17],\n",
      "        [ 8, 11, 17, 19],\n",
      "        [ 0,  1,  5, 14],\n",
      "        [10,  8, 17, 16],\n",
      "        [10, 10, 17, 19],\n",
      "        [ 7,  7, 17, 25],\n",
      "        [11, 13, 17, 22],\n",
      "        [11, 15, 17, 24],\n",
      "        [ 4, 15, 12, 24],\n",
      "        [ 2, 11, 11, 20],\n",
      "        [ 1, 13, 10, 22],\n",
      "        [ 0,  7,  7, 15],\n",
      "        [ 7,  0, 16,  7],\n",
      "        [ 2,  5, 17, 24],\n",
      "        [ 0,  4, 15, 22],\n",
      "        [ 3, 10, 17, 25],\n",
      "        [ 0,  0, 13, 16],\n",
      "        [ 5,  0, 15, 21],\n",
      "        [ 3,  0, 14, 24],\n",
      "        [ 0,  0, 15, 24]])\n",
      "w and h tensor(0) tensor(0)\n",
      "winc and hinc tensor(0) tensor(0)\n",
      "ss torch.Size([34, 7, 7]) tensor(0)\n",
      "ss <= 0 tensor(0)\n",
      "subroi_power_sum torch.Size([34, 7, 7, 256]) tensor(0)\n",
      "subroi_power_sum <= 0 tensor(221905)\n",
      "subroi_mean torch.Size([34, 7, 7, 256]) tensor(0)\n",
      "gem torch.Size([34, 7, 7, 256]) tensor(0)\n"
     ]
    }
   ],
   "source": [
    "roi_feats_list = []\n",
    "rois_index = rois[:, 0].long()\n",
    "rois_index_sub = rois_index.reshape(-1, 1, 1).repeat(1, 7, 7)\n",
    "for level in range(num_levels):\n",
    "    curf = feats[level]\n",
    "    print(\"curf\", curf.size(), curf.isnan().sum())\n",
    "    batch_size, channels, ch, cw = curf.size()\n",
    "    scale_factor = featmap_strides[level]\n",
    "    rois_rescale = torch.round(rois[:, 1:] / scale_factor).long()\n",
    "    print(rois_rescale)\n",
    "    # gem power\n",
    "    xpower = torch.pow(torch.maximum(curf, minimumx), p[level])\n",
    "#     print(\"xpower\", xpower.size(), xpower.isnan().sum())\n",
    "    # gem sum, but store as cumsum\n",
    "    xpower_cumsum = xpower.cumsum(2).cumsum(3)\n",
    "#     print(\"xpower_cumsum\", xpower_cumsum.size(), xpower_cumsum.isnan().sum())\n",
    "    # rescaled coordinates\n",
    "    x1 = torch.clamp(rois_rescale[:, 0], min=0, max=cw - 1)\n",
    "    y1 = torch.clamp(rois_rescale[:, 1], min=0, max=ch - 1)\n",
    "    x2 = torch.clamp(rois_rescale[:, 2], min=0, max=cw - 1)\n",
    "    y2 = torch.clamp(rois_rescale[:, 3], min=0, max=ch - 1)\n",
    "#     print(\"x1\", x1.size(), x1.isnan().sum())\n",
    "#     print(\"y1\", y1.size(), y1.isnan().sum())\n",
    "#     print(\"x2\", x2.size(), x2.isnan().sum())\n",
    "#     print(\"y2\", y2.size(), y2.isnan().sum())\n",
    "    # subregion intervals generate 7 * 7\n",
    "    w = x2 - x1 + 1\n",
    "    h = y2 - y1 + 1\n",
    "    print(\"w and h\", (w <= 0).sum(), (h <= 0).sum())\n",
    "    winc = torch.floor(w / 7).long()\n",
    "    hinc = torch.floor(h / 7).long()\n",
    "    print(\"winc and hinc\", (winc < 0).sum(), (hinc < 0).sum())\n",
    "#     print(\"x1\", x1.size(), x1.isnan().sum())\n",
    "#     print(\"y1\", y1.size(), y1.isnan().sum())\n",
    "#     print(\"x2\", x2.size(), x2.isnan().sum())\n",
    "#     print(\"y2\", y2.size(), y2.isnan().sum())\n",
    "    # find all subregion coordinates and area\n",
    "    subrois_x1 = []\n",
    "    subrois_x2 = []\n",
    "    subrois_y1 = []\n",
    "    subrois_y2 = []\n",
    "    subrois_area = []\n",
    "    for i in range(7):\n",
    "        cur_y1 = y1 + hinc * i\n",
    "        if i < 6:\n",
    "            cur_y2 = cur_y1 + hinc\n",
    "        else:\n",
    "            cur_y2 = y2\n",
    "        for j in range(7):\n",
    "            cur_x1 = x1 + winc * j\n",
    "            if j < 6:\n",
    "                cur_x2 = cur_x1 + winc\n",
    "            else:\n",
    "                cur_x2 = x2\n",
    "\n",
    "            subrois_x1.append(cur_x1)\n",
    "            subrois_y1.append(cur_y1)\n",
    "            subrois_x2.append(cur_x2)\n",
    "            subrois_y2.append(cur_y2)\n",
    "            \n",
    "            subarea = (cur_x2 - cur_x1 + 1) * (cur_y2 - cur_y1 + 1)\n",
    "            subrois_area.append(subarea)\n",
    "    # concat them all together\n",
    "    # size(N, 7, 7)\n",
    "    sx1 = torch.cat(subrois_x1, dim=-1).reshape(7, 7, rlen).permute(2, 1, 0)\n",
    "    sy1 = torch.cat(subrois_y1, dim=-1).reshape(7, 7, rlen).permute(2, 1, 0)\n",
    "    sx2 = torch.cat(subrois_x2, dim=-1).reshape(7, 7, rlen).permute(2, 1, 0)\n",
    "    sy2 = torch.cat(subrois_y2, dim=-1).reshape(7, 7, rlen).permute(2, 1, 0)\n",
    "    ss = torch.cat(subrois_area, dim=-1).reshape(7, 7, rlen).permute(2, 1, 0)\n",
    "    print(\"ss\", ss.size(), ss.isnan().sum())\n",
    "    print(\"ss <= 0\", (ss <= 0).sum())\n",
    "    # get ROI subregion gem sum\n",
    "    v1 = xpower_cumsum[rois_index_sub, :, sy1, sx1]\n",
    "    v2 = xpower_cumsum[rois_index_sub, :, sy1, sx2]\n",
    "    v3 = xpower_cumsum[rois_index_sub, :, sy2, sx1]\n",
    "    v4 = xpower_cumsum[rois_index_sub, :, sy2, sx2]\n",
    "#     print(\"v1\", v1.size(), v1.isnan().sum())\n",
    "#     print(\"v2\", v2.size(), v2.isnan().sum())\n",
    "#     print(\"v3\", v3.size(), v3.isnan().sum())\n",
    "#     print(\"v4\", v4.size(), v4.isnan().sum())\n",
    "    # get real sum by inclusive-exclusive algo\n",
    "    subroi_power_sum = v4 - v3 - v2 + v1\n",
    "    print(\"subroi_power_sum\", subroi_power_sum.size(), subroi_power_sum.isnan().sum())\n",
    "    print(\"subroi_power_sum <= 0\", (subroi_power_sum <= 0).sum())\n",
    "    # calculate mean by divide area\n",
    "    subroi_mean = subroi_power_sum / (ss.unsqueeze(-1))\n",
    "    print(\"subroi_mean\", subroi_mean.size(), subroi_mean.isnan().sum())\n",
    "    gem = torch.pow(subroi_mean, 1.0 / p[level])\n",
    "    print(\"gem\", gem.size(), gem.isnan().sum())\n",
    "    feat_level = proj[level](gem.permute(0, 3, 1, 2))\n",
    "    roi_feats_list.append(feat_level)\n"
   ]
  },
  {
   "cell_type": "code",
   "execution_count": 93,
   "id": "a76fb884",
   "metadata": {},
   "outputs": [],
   "source": [
    "weights = nn.Parameter(torch.Tensor([[0.8, 0.4, 0.2, 0.1],\n",
    "                                    [0.2, 0.8, 0.4, 0.1],\n",
    "                                    [0.1, 0.2, 0.8, 0.4],\n",
    "                                    [0.1, 0.2, 0.4, 0.8]]), requires_grad=False)"
   ]
  },
  {
   "cell_type": "code",
   "execution_count": 94,
   "id": "6fa1d5aa",
   "metadata": {},
   "outputs": [],
   "source": [
    "add_weights = weights[target_lvls]"
   ]
  },
  {
   "cell_type": "code",
   "execution_count": 95,
   "id": "a70e5d20",
   "metadata": {},
   "outputs": [
    {
     "data": {
      "text/plain": [
       "torch.Size([34, 4])"
      ]
     },
     "execution_count": 95,
     "metadata": {},
     "output_type": "execute_result"
    }
   ],
   "source": [
    "add_weights.size()"
   ]
  },
  {
   "cell_type": "code",
   "execution_count": 96,
   "id": "b4e46625",
   "metadata": {},
   "outputs": [
    {
     "data": {
      "text/plain": [
       "torch.Size([34, 256, 7, 7])"
      ]
     },
     "execution_count": 96,
     "metadata": {},
     "output_type": "execute_result"
    }
   ],
   "source": [
    "roi_feats_list[0].size()"
   ]
  },
  {
   "cell_type": "code",
   "execution_count": 97,
   "id": "b373145d",
   "metadata": {},
   "outputs": [],
   "source": [
    "roi_feats = torch.cat(roi_feats_list, dim=1).reshape(-1, num_levels, 256, 7, 7)"
   ]
  },
  {
   "cell_type": "code",
   "execution_count": 98,
   "id": "b8ef8573",
   "metadata": {},
   "outputs": [
    {
     "data": {
      "text/plain": [
       "torch.Size([34, 4, 256, 7, 7])"
      ]
     },
     "execution_count": 98,
     "metadata": {},
     "output_type": "execute_result"
    }
   ],
   "source": [
    "roi_feats.size()"
   ]
  },
  {
   "cell_type": "code",
   "execution_count": 99,
   "id": "eefa06b0",
   "metadata": {},
   "outputs": [],
   "source": [
    "roi_feats_weighted = torch.sum(roi_feats * add_weights.reshape(-1, num_levels, 1, 1, 1),dim=1)"
   ]
  },
  {
   "cell_type": "code",
   "execution_count": 100,
   "id": "db98bb6d",
   "metadata": {},
   "outputs": [
    {
     "data": {
      "text/plain": [
       "torch.Size([34, 4, 1, 1, 1])"
      ]
     },
     "execution_count": 100,
     "metadata": {},
     "output_type": "execute_result"
    }
   ],
   "source": [
    "add_weights.reshape(-1, num_levels, 1, 1, 1).size()"
   ]
  },
  {
   "cell_type": "code",
   "execution_count": 103,
   "id": "345f878a",
   "metadata": {},
   "outputs": [
    {
     "data": {
      "text/plain": [
       "torch.Size([34, 256, 7, 7])"
      ]
     },
     "execution_count": 103,
     "metadata": {},
     "output_type": "execute_result"
    }
   ],
   "source": [
    "roi_feats_weighted.size()"
   ]
  },
  {
   "cell_type": "code",
   "execution_count": 104,
   "id": "d7c6a1b1",
   "metadata": {},
   "outputs": [
    {
     "data": {
      "text/plain": [
       "tensor([[[[        nan,         nan,         nan,  ...,         nan,\n",
       "                   nan,         nan],\n",
       "          [        nan,         nan,         nan,  ...,         nan,\n",
       "                   nan,         nan],\n",
       "          [        nan,         nan,         nan,  ...,         nan,\n",
       "                   nan,         nan],\n",
       "          ...,\n",
       "          [        nan,         nan,         nan,  ...,         nan,\n",
       "                   nan,         nan],\n",
       "          [        nan,         nan,         nan,  ...,         nan,\n",
       "                   nan,         nan],\n",
       "          [        nan,         nan,         nan,  ...,         nan,\n",
       "                   nan,         nan]],\n",
       "\n",
       "         [[        nan,         nan,         nan,  ...,         nan,\n",
       "                   nan,         nan],\n",
       "          [        nan,         nan,         nan,  ...,         nan,\n",
       "                   nan,         nan],\n",
       "          [        nan,         nan,         nan,  ...,         nan,\n",
       "                   nan,         nan],\n",
       "          ...,\n",
       "          [        nan,         nan,         nan,  ...,         nan,\n",
       "                   nan,         nan],\n",
       "          [        nan,         nan,         nan,  ...,         nan,\n",
       "                   nan,         nan],\n",
       "          [        nan,         nan,         nan,  ...,         nan,\n",
       "                   nan,         nan]],\n",
       "\n",
       "         [[        nan,         nan,         nan,  ...,         nan,\n",
       "                   nan,         nan],\n",
       "          [        nan,         nan,         nan,  ...,         nan,\n",
       "                   nan,         nan],\n",
       "          [        nan,         nan,         nan,  ...,         nan,\n",
       "                   nan,         nan],\n",
       "          ...,\n",
       "          [        nan,         nan,         nan,  ...,         nan,\n",
       "                   nan,         nan],\n",
       "          [        nan,         nan,         nan,  ...,         nan,\n",
       "                   nan,         nan],\n",
       "          [        nan,         nan,         nan,  ...,         nan,\n",
       "                   nan,         nan]],\n",
       "\n",
       "         ...,\n",
       "\n",
       "         [[        nan,         nan,         nan,  ...,         nan,\n",
       "                   nan,         nan],\n",
       "          [        nan,         nan,         nan,  ...,         nan,\n",
       "                   nan,         nan],\n",
       "          [        nan,         nan,         nan,  ...,         nan,\n",
       "                   nan,         nan],\n",
       "          ...,\n",
       "          [        nan,         nan,         nan,  ...,         nan,\n",
       "                   nan,         nan],\n",
       "          [        nan,         nan,         nan,  ...,         nan,\n",
       "                   nan,         nan],\n",
       "          [        nan,         nan,         nan,  ...,         nan,\n",
       "                   nan,         nan]],\n",
       "\n",
       "         [[        nan,         nan,         nan,  ...,         nan,\n",
       "                   nan,         nan],\n",
       "          [        nan,         nan,         nan,  ...,         nan,\n",
       "                   nan,         nan],\n",
       "          [        nan,         nan,         nan,  ...,         nan,\n",
       "                   nan,         nan],\n",
       "          ...,\n",
       "          [        nan,         nan,         nan,  ...,         nan,\n",
       "                   nan,         nan],\n",
       "          [        nan,         nan,         nan,  ...,         nan,\n",
       "                   nan,         nan],\n",
       "          [        nan,         nan,         nan,  ...,         nan,\n",
       "                   nan,         nan]],\n",
       "\n",
       "         [[        nan,         nan,         nan,  ...,         nan,\n",
       "                   nan,         nan],\n",
       "          [        nan,         nan,         nan,  ...,         nan,\n",
       "                   nan,         nan],\n",
       "          [        nan,         nan,         nan,  ...,         nan,\n",
       "                   nan,         nan],\n",
       "          ...,\n",
       "          [        nan,         nan,         nan,  ...,         nan,\n",
       "                   nan,         nan],\n",
       "          [        nan,         nan,         nan,  ...,         nan,\n",
       "                   nan,         nan],\n",
       "          [        nan,         nan,         nan,  ...,         nan,\n",
       "                   nan,         nan]]],\n",
       "\n",
       "\n",
       "        [[[        nan,         nan,         nan,  ...,         nan,\n",
       "                   nan,         nan],\n",
       "          [        nan,         nan,         nan,  ...,         nan,\n",
       "                   nan, -4.8001e-03],\n",
       "          [        nan,         nan,         nan,  ...,         nan,\n",
       "                   nan,         nan],\n",
       "          ...,\n",
       "          [        nan,         nan,         nan,  ...,         nan,\n",
       "                   nan, -2.0285e-01],\n",
       "          [        nan,         nan,         nan,  ...,         nan,\n",
       "                   nan, -2.8409e-01],\n",
       "          [        nan,         nan,         nan,  ...,         nan,\n",
       "                   nan,         nan]],\n",
       "\n",
       "         [[        nan,         nan,         nan,  ...,         nan,\n",
       "                   nan,         nan],\n",
       "          [        nan,         nan,         nan,  ...,         nan,\n",
       "                   nan,  1.5931e-01],\n",
       "          [        nan,         nan,         nan,  ...,         nan,\n",
       "                   nan,         nan],\n",
       "          ...,\n",
       "          [        nan,         nan,         nan,  ...,         nan,\n",
       "                   nan,  2.4723e-01],\n",
       "          [        nan,         nan,         nan,  ...,         nan,\n",
       "                   nan,  8.8649e-02],\n",
       "          [        nan,         nan,         nan,  ...,         nan,\n",
       "                   nan,         nan]],\n",
       "\n",
       "         [[        nan,         nan,         nan,  ...,         nan,\n",
       "                   nan,         nan],\n",
       "          [        nan,         nan,         nan,  ...,         nan,\n",
       "                   nan, -1.6720e-01],\n",
       "          [        nan,         nan,         nan,  ...,         nan,\n",
       "                   nan,         nan],\n",
       "          ...,\n",
       "          [        nan,         nan,         nan,  ...,         nan,\n",
       "                   nan, -2.2632e-01],\n",
       "          [        nan,         nan,         nan,  ...,         nan,\n",
       "                   nan, -3.8872e-01],\n",
       "          [        nan,         nan,         nan,  ...,         nan,\n",
       "                   nan,         nan]],\n",
       "\n",
       "         ...,\n",
       "\n",
       "         [[        nan,         nan,         nan,  ...,         nan,\n",
       "                   nan,         nan],\n",
       "          [        nan,         nan,         nan,  ...,         nan,\n",
       "                   nan, -2.7178e-01],\n",
       "          [        nan,         nan,         nan,  ...,         nan,\n",
       "                   nan,         nan],\n",
       "          ...,\n",
       "          [        nan,         nan,         nan,  ...,         nan,\n",
       "                   nan, -9.4931e-02],\n",
       "          [        nan,         nan,         nan,  ...,         nan,\n",
       "                   nan, -3.1698e-01],\n",
       "          [        nan,         nan,         nan,  ...,         nan,\n",
       "                   nan,         nan]],\n",
       "\n",
       "         [[        nan,         nan,         nan,  ...,         nan,\n",
       "                   nan,         nan],\n",
       "          [        nan,         nan,         nan,  ...,         nan,\n",
       "                   nan, -9.9412e-02],\n",
       "          [        nan,         nan,         nan,  ...,         nan,\n",
       "                   nan,         nan],\n",
       "          ...,\n",
       "          [        nan,         nan,         nan,  ...,         nan,\n",
       "                   nan, -1.4628e-01],\n",
       "          [        nan,         nan,         nan,  ...,         nan,\n",
       "                   nan, -8.6492e-02],\n",
       "          [        nan,         nan,         nan,  ...,         nan,\n",
       "                   nan,         nan]],\n",
       "\n",
       "         [[        nan,         nan,         nan,  ...,         nan,\n",
       "                   nan,         nan],\n",
       "          [        nan,         nan,         nan,  ...,         nan,\n",
       "                   nan,  3.6070e-01],\n",
       "          [        nan,         nan,         nan,  ...,         nan,\n",
       "                   nan,         nan],\n",
       "          ...,\n",
       "          [        nan,         nan,         nan,  ...,         nan,\n",
       "                   nan,  5.1109e-01],\n",
       "          [        nan,         nan,         nan,  ...,         nan,\n",
       "                   nan,  1.5499e-01],\n",
       "          [        nan,         nan,         nan,  ...,         nan,\n",
       "                   nan,         nan]]],\n",
       "\n",
       "\n",
       "        [[[        nan,         nan,         nan,  ...,         nan,\n",
       "                   nan, -2.4632e-01],\n",
       "          [        nan,         nan,         nan,  ...,         nan,\n",
       "                   nan, -1.0730e-01],\n",
       "          [        nan,         nan,         nan,  ...,         nan,\n",
       "                   nan, -2.5771e-01],\n",
       "          ...,\n",
       "          [        nan,         nan,         nan,  ...,         nan,\n",
       "                   nan, -3.6786e-01],\n",
       "          [        nan,         nan,         nan,  ...,         nan,\n",
       "                   nan, -1.7307e-01],\n",
       "          [-6.9081e-02,         nan,         nan,  ...,         nan,\n",
       "           -3.6129e-01, -4.4862e-02]],\n",
       "\n",
       "         [[        nan,         nan,         nan,  ...,         nan,\n",
       "                   nan,  3.1170e-01],\n",
       "          [        nan,         nan,         nan,  ...,         nan,\n",
       "                   nan,  3.6208e-01],\n",
       "          [        nan,         nan,         nan,  ...,         nan,\n",
       "                   nan,  2.2669e-01],\n",
       "          ...,\n",
       "          [        nan,         nan,         nan,  ...,         nan,\n",
       "                   nan,  2.6705e-01],\n",
       "          [        nan,         nan,         nan,  ...,         nan,\n",
       "                   nan,  3.3669e-01],\n",
       "          [ 5.1010e-01,         nan,         nan,  ...,         nan,\n",
       "            2.5269e-01,  2.2178e-01]],\n",
       "\n",
       "         [[        nan,         nan,         nan,  ...,         nan,\n",
       "                   nan, -3.7103e-01],\n",
       "          [        nan,         nan,         nan,  ...,         nan,\n",
       "                   nan, -1.9135e-01],\n",
       "          [        nan,         nan,         nan,  ...,         nan,\n",
       "                   nan, -2.9421e-01],\n",
       "          ...,\n",
       "          [        nan,         nan,         nan,  ...,         nan,\n",
       "                   nan, -3.1090e-01],\n",
       "          [        nan,         nan,         nan,  ...,         nan,\n",
       "                   nan, -2.6919e-01],\n",
       "          [-3.0250e-01,         nan,         nan,  ...,         nan,\n",
       "           -1.7464e-01, -3.1483e-01]],\n",
       "\n",
       "         ...,\n",
       "\n",
       "         [[        nan,         nan,         nan,  ...,         nan,\n",
       "                   nan, -2.2222e-01],\n",
       "          [        nan,         nan,         nan,  ...,         nan,\n",
       "                   nan, -1.6574e-01],\n",
       "          [        nan,         nan,         nan,  ...,         nan,\n",
       "                   nan, -1.2188e-01],\n",
       "          ...,\n",
       "          [        nan,         nan,         nan,  ...,         nan,\n",
       "                   nan, -5.4181e-02],\n",
       "          [        nan,         nan,         nan,  ...,         nan,\n",
       "                   nan, -3.9597e-02],\n",
       "          [-7.8013e-02,         nan,         nan,  ...,         nan,\n",
       "            2.3967e-01,  8.9643e-02]],\n",
       "\n",
       "         [[        nan,         nan,         nan,  ...,         nan,\n",
       "                   nan, -2.4324e-01],\n",
       "          [        nan,         nan,         nan,  ...,         nan,\n",
       "                   nan,  5.8779e-02],\n",
       "          [        nan,         nan,         nan,  ...,         nan,\n",
       "                   nan,  1.1523e-02],\n",
       "          ...,\n",
       "          [        nan,         nan,         nan,  ...,         nan,\n",
       "                   nan, -1.2863e-01],\n",
       "          [        nan,         nan,         nan,  ...,         nan,\n",
       "                   nan, -2.1208e-01],\n",
       "          [-1.3282e-01,         nan,         nan,  ...,         nan,\n",
       "           -1.9464e-01, -2.4550e-01]],\n",
       "\n",
       "         [[        nan,         nan,         nan,  ...,         nan,\n",
       "                   nan,  4.2455e-01],\n",
       "          [        nan,         nan,         nan,  ...,         nan,\n",
       "                   nan,  3.2068e-01],\n",
       "          [        nan,         nan,         nan,  ...,         nan,\n",
       "                   nan,  3.2922e-01],\n",
       "          ...,\n",
       "          [        nan,         nan,         nan,  ...,         nan,\n",
       "                   nan,  4.1436e-01],\n",
       "          [        nan,         nan,         nan,  ...,         nan,\n",
       "                   nan,  4.2110e-01],\n",
       "          [ 2.6064e-01,         nan,         nan,  ...,         nan,\n",
       "            1.7949e-01,  6.6880e-02]]],\n",
       "\n",
       "\n",
       "        ...,\n",
       "\n",
       "\n",
       "        [[[        nan,         nan,         nan,  ...,         nan,\n",
       "                   nan,         nan],\n",
       "          [        nan,         nan,         nan,  ...,         nan,\n",
       "                   nan,         nan],\n",
       "          [        nan,         nan,         nan,  ...,         nan,\n",
       "                   nan,         nan],\n",
       "          ...,\n",
       "          [        nan,         nan,         nan,  ...,         nan,\n",
       "                   nan,         nan],\n",
       "          [        nan,         nan,         nan,  ...,         nan,\n",
       "                   nan,         nan],\n",
       "          [ 5.1143e-02, -1.4404e-02, -1.1922e-01,  ...,  3.7794e-02,\n",
       "           -1.4961e-01, -2.8829e-02]],\n",
       "\n",
       "         [[        nan,         nan,         nan,  ...,         nan,\n",
       "                   nan,         nan],\n",
       "          [        nan,         nan,         nan,  ...,         nan,\n",
       "                   nan,         nan],\n",
       "          [        nan,         nan,         nan,  ...,         nan,\n",
       "                   nan,         nan],\n",
       "          ...,\n",
       "          [        nan,         nan,         nan,  ...,         nan,\n",
       "                   nan,         nan],\n",
       "          [        nan,         nan,         nan,  ...,         nan,\n",
       "                   nan,         nan],\n",
       "          [ 5.0914e-01,  4.5060e-01,  3.7081e-01,  ...,  4.7925e-01,\n",
       "            4.0033e-01,  3.7286e-01]],\n",
       "\n",
       "         [[        nan,         nan,         nan,  ...,         nan,\n",
       "                   nan,         nan],\n",
       "          [        nan,         nan,         nan,  ...,         nan,\n",
       "                   nan,         nan],\n",
       "          [        nan,         nan,         nan,  ...,         nan,\n",
       "                   nan,         nan],\n",
       "          ...,\n",
       "          [        nan,         nan,         nan,  ...,         nan,\n",
       "                   nan,         nan],\n",
       "          [        nan,         nan,         nan,  ...,         nan,\n",
       "                   nan,         nan],\n",
       "          [-3.6676e-01, -2.8502e-01, -3.8870e-01,  ..., -3.4544e-01,\n",
       "           -3.5455e-01, -2.7515e-01]],\n",
       "\n",
       "         ...,\n",
       "\n",
       "         [[        nan,         nan,         nan,  ...,         nan,\n",
       "                   nan,         nan],\n",
       "          [        nan,         nan,         nan,  ...,         nan,\n",
       "                   nan,         nan],\n",
       "          [        nan,         nan,         nan,  ...,         nan,\n",
       "                   nan,         nan],\n",
       "          ...,\n",
       "          [        nan,         nan,         nan,  ...,         nan,\n",
       "                   nan,         nan],\n",
       "          [        nan,         nan,         nan,  ...,         nan,\n",
       "                   nan,         nan],\n",
       "          [ 9.4585e-02,  1.4778e-01,  3.0668e-01,  ...,  2.0148e-01,\n",
       "            9.8788e-02, -3.7219e-02]],\n",
       "\n",
       "         [[        nan,         nan,         nan,  ...,         nan,\n",
       "                   nan,         nan],\n",
       "          [        nan,         nan,         nan,  ...,         nan,\n",
       "                   nan,         nan],\n",
       "          [        nan,         nan,         nan,  ...,         nan,\n",
       "                   nan,         nan],\n",
       "          ...,\n",
       "          [        nan,         nan,         nan,  ...,         nan,\n",
       "                   nan,         nan],\n",
       "          [        nan,         nan,         nan,  ...,         nan,\n",
       "                   nan,         nan],\n",
       "          [-3.6262e-01, -6.6485e-01, -4.3396e-01,  ..., -3.6556e-01,\n",
       "           -5.5765e-01, -6.5877e-01]],\n",
       "\n",
       "         [[        nan,         nan,         nan,  ...,         nan,\n",
       "                   nan,         nan],\n",
       "          [        nan,         nan,         nan,  ...,         nan,\n",
       "                   nan,         nan],\n",
       "          [        nan,         nan,         nan,  ...,         nan,\n",
       "                   nan,         nan],\n",
       "          ...,\n",
       "          [        nan,         nan,         nan,  ...,         nan,\n",
       "                   nan,         nan],\n",
       "          [        nan,         nan,         nan,  ...,         nan,\n",
       "                   nan,         nan],\n",
       "          [ 2.3620e-01, -5.6037e-02,  1.7034e-01,  ...,  9.9895e-02,\n",
       "            3.2396e-01,  2.4789e-01]]],\n",
       "\n",
       "\n",
       "        [[[        nan,         nan,         nan,  ...,         nan,\n",
       "                   nan,  2.4916e-02],\n",
       "          [        nan,         nan,         nan,  ...,         nan,\n",
       "                   nan,         nan],\n",
       "          [        nan,         nan,         nan,  ...,         nan,\n",
       "                   nan,         nan],\n",
       "          ...,\n",
       "          [        nan,         nan,         nan,  ...,         nan,\n",
       "                   nan,  3.1929e-02],\n",
       "          [        nan,         nan,         nan,  ...,         nan,\n",
       "                   nan,         nan],\n",
       "          [-3.9635e-02, -3.1604e-02, -2.2472e-01,  ...,  1.0360e-01,\n",
       "           -1.8842e-02, -1.0940e-02]],\n",
       "\n",
       "         [[        nan,         nan,         nan,  ...,         nan,\n",
       "                   nan,  3.2750e-01],\n",
       "          [        nan,         nan,         nan,  ...,         nan,\n",
       "                   nan,         nan],\n",
       "          [        nan,         nan,         nan,  ...,         nan,\n",
       "                   nan,         nan],\n",
       "          ...,\n",
       "          [        nan,         nan,         nan,  ...,         nan,\n",
       "                   nan,  4.3099e-01],\n",
       "          [        nan,         nan,         nan,  ...,         nan,\n",
       "                   nan,         nan],\n",
       "          [ 5.6272e-01,  4.5467e-01,  3.2793e-01,  ...,  3.4563e-01,\n",
       "            3.9587e-01,  4.9969e-01]],\n",
       "\n",
       "         [[        nan,         nan,         nan,  ...,         nan,\n",
       "                   nan, -2.3155e-01],\n",
       "          [        nan,         nan,         nan,  ...,         nan,\n",
       "                   nan,         nan],\n",
       "          [        nan,         nan,         nan,  ...,         nan,\n",
       "                   nan,         nan],\n",
       "          ...,\n",
       "          [        nan,         nan,         nan,  ...,         nan,\n",
       "                   nan, -4.1430e-01],\n",
       "          [        nan,         nan,         nan,  ...,         nan,\n",
       "                   nan,         nan],\n",
       "          [-2.8464e-01, -1.2784e-01, -3.6174e-01,  ..., -3.6101e-01,\n",
       "           -3.4581e-01, -2.0117e-01]],\n",
       "\n",
       "         ...,\n",
       "\n",
       "         [[        nan,         nan,         nan,  ...,         nan,\n",
       "                   nan,  1.8677e-01],\n",
       "          [        nan,         nan,         nan,  ...,         nan,\n",
       "                   nan,         nan],\n",
       "          [        nan,         nan,         nan,  ...,         nan,\n",
       "                   nan,         nan],\n",
       "          ...,\n",
       "          [        nan,         nan,         nan,  ...,         nan,\n",
       "                   nan,  1.3877e-01],\n",
       "          [        nan,         nan,         nan,  ...,         nan,\n",
       "                   nan,         nan],\n",
       "          [ 1.1770e-01,  8.6199e-02,  3.5024e-01,  ...,  1.4083e-01,\n",
       "           -5.6240e-02,  1.7435e-01]],\n",
       "\n",
       "         [[        nan,         nan,         nan,  ...,         nan,\n",
       "                   nan, -3.8982e-01],\n",
       "          [        nan,         nan,         nan,  ...,         nan,\n",
       "                   nan,         nan],\n",
       "          [        nan,         nan,         nan,  ...,         nan,\n",
       "                   nan,         nan],\n",
       "          ...,\n",
       "          [        nan,         nan,         nan,  ...,         nan,\n",
       "                   nan, -5.3506e-01],\n",
       "          [        nan,         nan,         nan,  ...,         nan,\n",
       "                   nan,         nan],\n",
       "          [-4.4810e-01, -6.4249e-01, -3.9309e-01,  ..., -4.9514e-01,\n",
       "           -6.0413e-01, -6.9540e-01]],\n",
       "\n",
       "         [[        nan,         nan,         nan,  ...,         nan,\n",
       "                   nan, -1.0552e-02],\n",
       "          [        nan,         nan,         nan,  ...,         nan,\n",
       "                   nan,         nan],\n",
       "          [        nan,         nan,         nan,  ...,         nan,\n",
       "                   nan,         nan],\n",
       "          ...,\n",
       "          [        nan,         nan,         nan,  ...,         nan,\n",
       "                   nan,  5.7948e-02],\n",
       "          [        nan,         nan,         nan,  ...,         nan,\n",
       "                   nan,         nan],\n",
       "          [ 1.8816e-01,  7.8476e-03,  1.1052e-01,  ...,  1.5669e-01,\n",
       "            4.6350e-01,  2.7923e-01]]],\n",
       "\n",
       "\n",
       "        [[[ 1.5163e-01, -8.7700e-02,         nan,  ...,         nan,\n",
       "                   nan, -5.2600e-02],\n",
       "          [        nan,  1.7672e-02,         nan,  ...,         nan,\n",
       "                   nan, -6.5272e-02],\n",
       "          [        nan,         nan,         nan,  ...,  6.4250e-02,\n",
       "           -1.6843e-01,  1.2967e-01],\n",
       "          ...,\n",
       "          [        nan, -1.2517e-01,         nan,  ...,         nan,\n",
       "                   nan,  4.2223e-02],\n",
       "          [        nan,         nan, -1.1566e-01,  ...,         nan,\n",
       "            9.7341e-02,  2.9638e-04],\n",
       "          [ 1.9315e-01, -5.2538e-02, -1.5938e-01,  ..., -1.1510e-02,\n",
       "           -1.0970e-01, -1.0255e-01]],\n",
       "\n",
       "         [[ 3.3172e-01,  3.2767e-01,         nan,  ...,         nan,\n",
       "                   nan,  5.0949e-01],\n",
       "          [        nan,  3.2421e-01,         nan,  ...,         nan,\n",
       "                   nan,  4.5706e-01],\n",
       "          [        nan,         nan,         nan,  ...,  3.9283e-01,\n",
       "            5.1307e-01,  1.9875e-01],\n",
       "          ...,\n",
       "          [        nan,  3.5844e-01,         nan,  ...,         nan,\n",
       "                   nan,  6.1580e-01],\n",
       "          [        nan,         nan,  6.5466e-01,  ...,         nan,\n",
       "            4.2236e-01,  3.3531e-01],\n",
       "          [ 4.7950e-01,  4.6196e-01,  3.4190e-01,  ...,  5.8975e-01,\n",
       "            2.9819e-01,  3.7899e-01]],\n",
       "\n",
       "         [[-3.0247e-01, -8.6671e-02,         nan,  ...,         nan,\n",
       "                   nan, -3.2320e-01],\n",
       "          [        nan, -3.8552e-01,         nan,  ...,         nan,\n",
       "                   nan, -4.1399e-01],\n",
       "          [        nan,         nan,         nan,  ..., -4.2695e-01,\n",
       "           -3.4646e-01, -2.4997e-01],\n",
       "          ...,\n",
       "          [        nan, -3.1782e-01,         nan,  ...,         nan,\n",
       "                   nan, -4.5797e-01],\n",
       "          [        nan,         nan, -1.9863e-01,  ...,         nan,\n",
       "           -1.9112e-01, -2.9679e-01],\n",
       "          [-4.1574e-01, -2.2129e-01, -2.8767e-01,  ..., -2.9112e-01,\n",
       "           -2.4547e-01, -1.6010e-01]],\n",
       "\n",
       "         ...,\n",
       "\n",
       "         [[ 2.5039e-01, -1.0211e-01,         nan,  ...,         nan,\n",
       "                   nan, -6.4503e-02],\n",
       "          [        nan,  9.8913e-02,         nan,  ...,         nan,\n",
       "                   nan,  2.2820e-01],\n",
       "          [        nan,         nan,         nan,  ...,  2.1865e-01,\n",
       "            7.2487e-02,  1.5609e-01],\n",
       "          ...,\n",
       "          [        nan,  2.9641e-01,         nan,  ...,         nan,\n",
       "                   nan,  2.6152e-01],\n",
       "          [        nan,         nan,  1.3099e-01,  ...,         nan,\n",
       "            1.5989e-01,  3.1407e-02],\n",
       "          [ 1.7904e-01,  1.3594e-01,  2.9364e-01,  ...,  1.1943e-01,\n",
       "            2.1296e-01,  2.0691e-01]],\n",
       "\n",
       "         [[-6.0846e-01, -4.2931e-01,         nan,  ...,         nan,\n",
       "                   nan, -3.7813e-01],\n",
       "          [        nan, -3.3802e-01,         nan,  ...,         nan,\n",
       "                   nan, -5.0104e-01],\n",
       "          [        nan,         nan,         nan,  ..., -5.7026e-01,\n",
       "           -5.4331e-01, -6.2084e-01],\n",
       "          ...,\n",
       "          [        nan, -1.8335e-01,         nan,  ...,         nan,\n",
       "                   nan, -4.6662e-01],\n",
       "          [        nan,         nan, -4.7529e-01,  ...,         nan,\n",
       "           -4.9225e-01, -3.0795e-01],\n",
       "          [-5.5287e-01, -3.7234e-01, -4.2390e-01,  ..., -6.5277e-01,\n",
       "           -5.6293e-01, -4.9276e-01]],\n",
       "\n",
       "         [[-6.9967e-02, -2.0245e-02,         nan,  ...,         nan,\n",
       "                   nan,  9.2236e-02],\n",
       "          [        nan,  1.9280e-01,         nan,  ...,         nan,\n",
       "                   nan,  1.3591e-01],\n",
       "          [        nan,         nan,         nan,  ..., -6.5782e-02,\n",
       "            1.7955e-01,  1.9673e-01],\n",
       "          ...,\n",
       "          [        nan, -3.1461e-02,         nan,  ...,         nan,\n",
       "                   nan,  1.9155e-01],\n",
       "          [        nan,         nan,  9.5094e-02,  ...,         nan,\n",
       "           -1.2261e-02,  2.7839e-01],\n",
       "          [-3.2585e-02,  1.6289e-01,  8.4415e-02,  ...,  1.5402e-01,\n",
       "            4.4774e-02,  3.2489e-01]]]], grad_fn=<SumBackward1>)"
      ]
     },
     "execution_count": 104,
     "metadata": {},
     "output_type": "execute_result"
    }
   ],
   "source": [
    "roi_feats_weighted"
   ]
  },
  {
   "cell_type": "code",
   "execution_count": 105,
   "id": "ca2b2415",
   "metadata": {},
   "outputs": [
    {
     "data": {
      "text/plain": [
       "tensor([[[ 1,  1,  1,  ...,  1,  1,  4],\n",
       "         [ 1,  1,  1,  ...,  1,  1,  4],\n",
       "         [ 1,  1,  1,  ...,  1,  1,  4],\n",
       "         ...,\n",
       "         [ 1,  1,  1,  ...,  1,  1,  4],\n",
       "         [ 1,  1,  1,  ...,  1,  1,  4],\n",
       "         [ 4,  4,  4,  ...,  4,  4, 16]],\n",
       "\n",
       "        [[ 1,  1,  1,  ...,  1,  1,  6],\n",
       "         [ 1,  1,  1,  ...,  1,  1,  6],\n",
       "         [ 1,  1,  1,  ...,  1,  1,  6],\n",
       "         ...,\n",
       "         [ 1,  1,  1,  ...,  1,  1,  6],\n",
       "         [ 1,  1,  1,  ...,  1,  1,  6],\n",
       "         [ 3,  3,  3,  ...,  3,  3, 18]],\n",
       "\n",
       "        [[ 1,  1,  1,  ...,  1,  1,  6],\n",
       "         [ 1,  1,  1,  ...,  1,  1,  6],\n",
       "         [ 1,  1,  1,  ...,  1,  1,  6],\n",
       "         ...,\n",
       "         [ 1,  1,  1,  ...,  1,  1,  6],\n",
       "         [ 1,  1,  1,  ...,  1,  1,  6],\n",
       "         [ 3,  3,  3,  ...,  3,  3, 18]],\n",
       "\n",
       "        ...,\n",
       "\n",
       "        [[ 8,  8,  8,  ...,  8,  8,  8],\n",
       "         [ 8,  8,  8,  ...,  8,  8,  8],\n",
       "         [ 8,  8,  8,  ...,  8,  8,  8],\n",
       "         ...,\n",
       "         [ 8,  8,  8,  ...,  8,  8,  8],\n",
       "         [ 8,  8,  8,  ...,  8,  8,  8],\n",
       "         [20, 20, 20,  ..., 20, 20, 20]],\n",
       "\n",
       "        [[ 8,  8,  8,  ...,  8,  8, 14],\n",
       "         [ 8,  8,  8,  ...,  8,  8, 14],\n",
       "         [ 8,  8,  8,  ...,  8,  8, 14],\n",
       "         ...,\n",
       "         [ 8,  8,  8,  ...,  8,  8, 14],\n",
       "         [ 8,  8,  8,  ...,  8,  8, 14],\n",
       "         [24, 24, 24,  ..., 24, 24, 42]],\n",
       "\n",
       "        [[12, 12, 12,  ..., 12, 12, 21],\n",
       "         [12, 12, 12,  ..., 12, 12, 21],\n",
       "         [12, 12, 12,  ..., 12, 12, 21],\n",
       "         ...,\n",
       "         [12, 12, 12,  ..., 12, 12, 21],\n",
       "         [12, 12, 12,  ..., 12, 12, 21],\n",
       "         [16, 16, 16,  ..., 16, 16, 28]]])"
      ]
     },
     "execution_count": 105,
     "metadata": {},
     "output_type": "execute_result"
    }
   ],
   "source": [
    "ss"
   ]
  },
  {
   "cell_type": "code",
   "execution_count": 106,
   "id": "a2757ee6",
   "metadata": {},
   "outputs": [
    {
     "data": {
      "text/plain": [
       "tensor([[ 1, 17,  4, 20],\n",
       "        [15, 13, 17, 18],\n",
       "        [15, 11, 17, 16],\n",
       "        [ 7,  7,  8,  8],\n",
       "        [ 8, 24,  9, 24],\n",
       "        [12, 10, 14, 11],\n",
       "        [ 0, 17,  4, 20],\n",
       "        [ 1, 16,  4, 20],\n",
       "        [11,  7, 15, 11],\n",
       "        [18, 15, 21, 19],\n",
       "        [ 6,  0, 12,  3],\n",
       "        [ 5, 10,  9, 14],\n",
       "        [ 0, 10,  9, 19],\n",
       "        [ 3, 10, 12, 19],\n",
       "        [ 0,  8,  8, 17],\n",
       "        [ 8, 11, 17, 19],\n",
       "        [ 0,  1,  5, 14],\n",
       "        [10,  8, 17, 16],\n",
       "        [10, 10, 17, 19],\n",
       "        [ 7,  7, 17, 25],\n",
       "        [11, 13, 17, 22],\n",
       "        [11, 15, 17, 24],\n",
       "        [ 4, 15, 12, 24],\n",
       "        [ 2, 11, 11, 20],\n",
       "        [ 1, 13, 10, 22],\n",
       "        [ 0,  7,  7, 15],\n",
       "        [ 7,  0, 16,  7],\n",
       "        [ 2,  5, 17, 24],\n",
       "        [ 0,  4, 15, 22],\n",
       "        [ 3, 10, 17, 25],\n",
       "        [ 0,  0, 13, 16],\n",
       "        [ 5,  0, 15, 21],\n",
       "        [ 3,  0, 14, 24],\n",
       "        [ 0,  0, 15, 24]])"
      ]
     },
     "execution_count": 106,
     "metadata": {},
     "output_type": "execute_result"
    }
   ],
   "source": [
    "rois_rescale"
   ]
  },
  {
   "cell_type": "code",
   "execution_count": null,
   "id": "cd097a33",
   "metadata": {},
   "outputs": [],
   "source": []
  }
 ],
 "metadata": {
  "kernelspec": {
   "display_name": "Python 3 (ipykernel)",
   "language": "python",
   "name": "python3"
  },
  "language_info": {
   "codemirror_mode": {
    "name": "ipython",
    "version": 3
   },
   "file_extension": ".py",
   "mimetype": "text/x-python",
   "name": "python",
   "nbconvert_exporter": "python",
   "pygments_lexer": "ipython3",
   "version": "3.9.12"
  }
 },
 "nbformat": 4,
 "nbformat_minor": 5
}
