{
 "cells": [
  {
   "cell_type": "code",
   "execution_count": 26,
   "id": "ae792107",
   "metadata": {},
   "outputs": [],
   "source": [
    "import torch\n",
    "import torch.nn as nn\n",
    "import torch.nn.functional as F\n",
    "import sys"
   ]
  },
  {
   "cell_type": "code",
   "execution_count": 27,
   "id": "df3bdecc",
   "metadata": {},
   "outputs": [],
   "source": [
    "feature_maps = (torch.randn(3, 256, 216, 184), torch.randn(3, 256, 108, 92), torch.randn(3, 256, 54, 46), torch.randn(3, 256, 27, 23))"
   ]
  },
  {
   "cell_type": "code",
   "execution_count": 28,
   "id": "6dfcaab6",
   "metadata": {},
   "outputs": [],
   "source": [
    "rois = torch.Tensor([[  0.0000, 557.9707, 366.0170, 697.4088, 566.9425],\n",
    "[  1.0000,   0.0000, 622.1016, 143.7075, 709.8333],\n",
    "[  1.0000,  16.5338, 620.5057, 197.3975, 710.6006],\n",
    "[  2.0000, 223.7691, 473.1749, 359.9460, 628.8488],\n",
    "[  2.0000, 208.7294, 522.8946, 341.2042, 643.8867]])"
   ]
  },
  {
   "cell_type": "code",
   "execution_count": 29,
   "id": "c9ab871e",
   "metadata": {},
   "outputs": [],
   "source": [
    "rois_index = rois[:, 0].long()"
   ]
  },
  {
   "cell_type": "code",
   "execution_count": 30,
   "id": "edea272e",
   "metadata": {},
   "outputs": [],
   "source": [
    "rois_ = rois[:, 1:]"
   ]
  },
  {
   "cell_type": "code",
   "execution_count": 31,
   "id": "aff48f7d",
   "metadata": {},
   "outputs": [],
   "source": [
    "i = 0\n",
    "curf = feature_maps[i]\n",
    "scale_factor = 4 * (i + 1)"
   ]
  },
  {
   "cell_type": "code",
   "execution_count": 32,
   "id": "3b99c639",
   "metadata": {},
   "outputs": [],
   "source": [
    "rois_rescale = torch.round(rois_ / scale_factor).long()"
   ]
  },
  {
   "cell_type": "code",
   "execution_count": 33,
   "id": "f1b44f3f",
   "metadata": {},
   "outputs": [
    {
     "data": {
      "text/plain": [
       "tensor([0, 1, 1, 2, 2])"
      ]
     },
     "execution_count": 33,
     "metadata": {},
     "output_type": "execute_result"
    }
   ],
   "source": [
    "rois_index"
   ]
  },
  {
   "cell_type": "code",
   "execution_count": 34,
   "id": "645f0160",
   "metadata": {},
   "outputs": [
    {
     "data": {
      "text/plain": [
       "tensor([[139,  92, 174, 142],\n",
       "        [  0, 156,  36, 177],\n",
       "        [  4, 155,  49, 178],\n",
       "        [ 56, 118,  90, 157],\n",
       "        [ 52, 131,  85, 161]])"
      ]
     },
     "execution_count": 34,
     "metadata": {},
     "output_type": "execute_result"
    }
   ],
   "source": [
    "rois_rescale"
   ]
  },
  {
   "cell_type": "code",
   "execution_count": 35,
   "id": "29e634c3",
   "metadata": {},
   "outputs": [],
   "source": [
    "oneD_coordinate = torch.arange(curf.size(2) * curf.size(3)).reshape(1, curf.size(2), curf.size(3))\n",
    "y_coordinate = torch.floor(oneD_coordinate / curf.size(3))\n",
    "x_coordinate = oneD_coordinate % curf.size(3)"
   ]
  },
  {
   "cell_type": "code",
   "execution_count": 36,
   "id": "1b4e00e8",
   "metadata": {},
   "outputs": [
    {
     "data": {
      "text/plain": [
       "tensor([[[    0,     1,     2,  ...,   181,   182,   183],\n",
       "         [  184,   185,   186,  ...,   365,   366,   367],\n",
       "         [  368,   369,   370,  ...,   549,   550,   551],\n",
       "         ...,\n",
       "         [39192, 39193, 39194,  ..., 39373, 39374, 39375],\n",
       "         [39376, 39377, 39378,  ..., 39557, 39558, 39559],\n",
       "         [39560, 39561, 39562,  ..., 39741, 39742, 39743]]])"
      ]
     },
     "execution_count": 36,
     "metadata": {},
     "output_type": "execute_result"
    }
   ],
   "source": [
    "oneD_coordinate"
   ]
  },
  {
   "cell_type": "code",
   "execution_count": 37,
   "id": "bba7088d",
   "metadata": {},
   "outputs": [
    {
     "data": {
      "text/plain": [
       "tensor([[[  0.,   0.,   0.,  ...,   0.,   0.,   0.],\n",
       "         [  1.,   1.,   1.,  ...,   1.,   1.,   1.],\n",
       "         [  2.,   2.,   2.,  ...,   2.,   2.,   2.],\n",
       "         ...,\n",
       "         [213., 213., 213.,  ..., 213., 213., 213.],\n",
       "         [214., 214., 214.,  ..., 214., 214., 214.],\n",
       "         [215., 215., 215.,  ..., 215., 215., 215.]]])"
      ]
     },
     "execution_count": 37,
     "metadata": {},
     "output_type": "execute_result"
    }
   ],
   "source": [
    "y_coordinate"
   ]
  },
  {
   "cell_type": "code",
   "execution_count": 38,
   "id": "320bd1d8",
   "metadata": {},
   "outputs": [
    {
     "data": {
      "text/plain": [
       "tensor([[[  0,   1,   2,  ..., 181, 182, 183],\n",
       "         [  0,   1,   2,  ..., 181, 182, 183],\n",
       "         [  0,   1,   2,  ..., 181, 182, 183],\n",
       "         ...,\n",
       "         [  0,   1,   2,  ..., 181, 182, 183],\n",
       "         [  0,   1,   2,  ..., 181, 182, 183],\n",
       "         [  0,   1,   2,  ..., 181, 182, 183]]])"
      ]
     },
     "execution_count": 38,
     "metadata": {},
     "output_type": "execute_result"
    }
   ],
   "source": [
    "x_coordinate"
   ]
  },
  {
   "cell_type": "code",
   "execution_count": 39,
   "id": "bf5e224e",
   "metadata": {},
   "outputs": [],
   "source": [
    "y_coordinate = y_coordinate.repeat(rois_rescale.size(0), 1, 1)\n",
    "x_coordinate = x_coordinate.repeat(rois_rescale.size(0), 1, 1)"
   ]
  },
  {
   "cell_type": "code",
   "execution_count": 40,
   "id": "5fa71f2b",
   "metadata": {},
   "outputs": [
    {
     "data": {
      "text/plain": [
       "torch.Size([5, 216, 184])"
      ]
     },
     "execution_count": 40,
     "metadata": {},
     "output_type": "execute_result"
    }
   ],
   "source": [
    "y_coordinate.size()"
   ]
  },
  {
   "cell_type": "code",
   "execution_count": 41,
   "id": "2f136bf9",
   "metadata": {},
   "outputs": [],
   "source": [
    "one_mask = (x_coordinate >= rois_rescale[:, 0].reshape(-1, 1, 1)) & \\\n",
    "            (x_coordinate <= rois_rescale[:, 2].reshape(-1, 1, 1)) & \\\n",
    "            (y_coordinate >= rois_rescale[:, 1].reshape(-1, 1, 1)) & \\\n",
    "            (y_coordinate <= rois_rescale[:, 3].reshape(-1, 1, 1))"
   ]
  },
  {
   "cell_type": "code",
   "execution_count": 42,
   "id": "4f90912c",
   "metadata": {},
   "outputs": [
    {
     "data": {
      "text/plain": [
       "torch.Size([5, 1, 216, 184])"
      ]
     },
     "execution_count": 42,
     "metadata": {},
     "output_type": "execute_result"
    }
   ],
   "source": [
    "one_mask = one_mask.reshape(-1, 1, curf.size(2), curf.size(3))\n",
    "one_mask.size()"
   ]
  },
  {
   "cell_type": "code",
   "execution_count": 43,
   "id": "4f4499f4",
   "metadata": {},
   "outputs": [
    {
     "data": {
      "text/plain": [
       "torch.Size([5, 256, 216, 184])"
      ]
     },
     "execution_count": 43,
     "metadata": {},
     "output_type": "execute_result"
    }
   ],
   "source": [
    "feature_for_rois = curf[rois_index]\n",
    "feature_for_rois.size()"
   ]
  },
  {
   "cell_type": "code",
   "execution_count": 44,
   "id": "2facb412",
   "metadata": {},
   "outputs": [
    {
     "data": {
      "text/plain": [
       "122093568"
      ]
     },
     "execution_count": 44,
     "metadata": {},
     "output_type": "execute_result"
    }
   ],
   "source": [
    "curf.element_size() * curf.nelement()"
   ]
  },
  {
   "cell_type": "code",
   "execution_count": 45,
   "id": "16952869",
   "metadata": {},
   "outputs": [
    {
     "data": {
      "text/plain": [
       "5.57171630859375"
      ]
     },
     "execution_count": 45,
     "metadata": {},
     "output_type": "execute_result"
    }
   ],
   "source": [
    "# 过大，不能这么做，用其他办法，比如深度换广度\n",
    "122093568 * 49 / 1073741824"
   ]
  },
  {
   "cell_type": "code",
   "execution_count": 46,
   "id": "7ed4dbf8",
   "metadata": {},
   "outputs": [
    {
     "data": {
      "text/plain": [
       "tensor([False, False, False, False, False, False, False, False, False, False,\n",
       "        False, False, False, False, False, False, False, False, False, False,\n",
       "        False, False, False, False, False, False, False, False, False, False,\n",
       "        False, False, False, False, False, False, False, False, False, False,\n",
       "        False, False, False, False, False, False, False, False, False, False,\n",
       "        False, False, False, False, False, False, False, False, False, False,\n",
       "        False, False, False, False, False, False, False, False, False, False,\n",
       "        False, False, False, False, False, False, False, False, False, False,\n",
       "        False, False, False, False, False, False, False, False, False, False,\n",
       "        False, False, False, False, False, False, False, False, False, False,\n",
       "        False, False, False, False, False, False, False, False, False, False,\n",
       "        False, False, False, False, False, False, False, False, False, False,\n",
       "        False, False, False, False, False, False, False, False, False, False,\n",
       "        False, False, False, False, False, False, False, False, False, False,\n",
       "        False, False, False, False, False, False, False, False, False, False,\n",
       "        False, False, False, False, False, False, False, False, False, False,\n",
       "        False, False, False, False, False, False, False, False, False, False,\n",
       "        False, False, False, False, False, False, False, False, False, False,\n",
       "        False, False, False, False])"
      ]
     },
     "execution_count": 46,
     "metadata": {},
     "output_type": "execute_result"
    }
   ],
   "source": [
    "one_mask[1][0][92]"
   ]
  },
  {
   "cell_type": "code",
   "execution_count": 47,
   "id": "b18dfec3",
   "metadata": {},
   "outputs": [],
   "source": [
    "masked = feature_for_rois.masked_fill_(~one_mask, 0)"
   ]
  },
  {
   "cell_type": "code",
   "execution_count": 48,
   "id": "e4d77bb3",
   "metadata": {},
   "outputs": [
    {
     "data": {
      "text/plain": [
       "tensor([-1.0733, -0.0987,  1.0486,  0.3846, -0.2713,  0.6711, -1.6563,  1.7042,\n",
       "         0.9191, -0.7272,  1.1034,  0.0026, -0.4326,  1.6772,  0.0560,  0.2816,\n",
       "         0.8218,  0.1034,  0.6547, -0.8347,  0.8229, -0.4328,  0.5896,  0.9136,\n",
       "        -1.0090, -0.1894, -1.3477,  0.2294, -0.0620, -0.6081, -0.2344, -0.8739,\n",
       "        -0.7584,  0.8919,  0.8030,  1.6139, -1.2724,  0.0000,  0.0000,  0.0000,\n",
       "         0.0000,  0.0000,  0.0000,  0.0000,  0.0000,  0.0000,  0.0000,  0.0000,\n",
       "         0.0000,  0.0000,  0.0000,  0.0000,  0.0000,  0.0000,  0.0000,  0.0000,\n",
       "         0.0000,  0.0000,  0.0000,  0.0000,  0.0000,  0.0000,  0.0000,  0.0000,\n",
       "         0.0000,  0.0000,  0.0000,  0.0000,  0.0000,  0.0000,  0.0000,  0.0000,\n",
       "         0.0000,  0.0000,  0.0000,  0.0000,  0.0000,  0.0000,  0.0000,  0.0000,\n",
       "         0.0000,  0.0000,  0.0000,  0.0000,  0.0000,  0.0000,  0.0000,  0.0000,\n",
       "         0.0000,  0.0000,  0.0000,  0.0000,  0.0000,  0.0000,  0.0000,  0.0000,\n",
       "         0.0000,  0.0000,  0.0000,  0.0000,  0.0000,  0.0000,  0.0000,  0.0000,\n",
       "         0.0000,  0.0000,  0.0000,  0.0000,  0.0000,  0.0000,  0.0000,  0.0000,\n",
       "         0.0000,  0.0000,  0.0000,  0.0000,  0.0000,  0.0000,  0.0000,  0.0000,\n",
       "         0.0000,  0.0000,  0.0000,  0.0000,  0.0000,  0.0000,  0.0000,  0.0000,\n",
       "         0.0000,  0.0000,  0.0000,  0.0000,  0.0000,  0.0000,  0.0000,  0.0000,\n",
       "         0.0000,  0.0000,  0.0000,  0.0000,  0.0000,  0.0000,  0.0000,  0.0000,\n",
       "         0.0000,  0.0000,  0.0000,  0.0000,  0.0000,  0.0000,  0.0000,  0.0000,\n",
       "         0.0000,  0.0000,  0.0000,  0.0000,  0.0000,  0.0000,  0.0000,  0.0000,\n",
       "         0.0000,  0.0000,  0.0000,  0.0000,  0.0000,  0.0000,  0.0000,  0.0000,\n",
       "         0.0000,  0.0000,  0.0000,  0.0000,  0.0000,  0.0000,  0.0000,  0.0000,\n",
       "         0.0000,  0.0000,  0.0000,  0.0000,  0.0000,  0.0000,  0.0000,  0.0000])"
      ]
     },
     "execution_count": 48,
     "metadata": {},
     "output_type": "execute_result"
    }
   ],
   "source": [
    "masked[1][0][156]"
   ]
  },
  {
   "cell_type": "code",
   "execution_count": 49,
   "id": "ad49232b",
   "metadata": {},
   "outputs": [
    {
     "data": {
      "text/plain": [
       "torch.Size([5, 256, 216, 184])"
      ]
     },
     "execution_count": 49,
     "metadata": {},
     "output_type": "execute_result"
    }
   ],
   "source": [
    "masked.size()"
   ]
  },
  {
   "cell_type": "code",
   "execution_count": 50,
   "id": "768ab5a8",
   "metadata": {},
   "outputs": [],
   "source": [
    "# 方案二：\n",
    "# 把x的power的cumsum算出来之后再根据坐标相减\n",
    "# e.g. 对x1 y1 x2 y2来说\n",
    "# 他们的和等于的是\n",
    "# cumsum[x2][y2] - cumsum[x1][y2] - cumsum[x2][y1] + cumsum[x1][y1]"
   ]
  },
  {
   "cell_type": "code",
   "execution_count": 51,
   "id": "a40698c1",
   "metadata": {},
   "outputs": [
    {
     "data": {
      "text/plain": [
       "torch.Size([3, 256, 216, 184])"
      ]
     },
     "execution_count": 51,
     "metadata": {},
     "output_type": "execute_result"
    }
   ],
   "source": [
    "curf = feature_maps[0]\n",
    "curf.size()"
   ]
  },
  {
   "cell_type": "code",
   "execution_count": 52,
   "id": "1f2e46ad",
   "metadata": {},
   "outputs": [],
   "source": [
    "p = nn.Parameter(torch.Tensor([3, 3, 3, 3]))\n",
    "minimumx = nn.Parameter(torch.Tensor([1e-6]), requires_grad=False)"
   ]
  },
  {
   "cell_type": "code",
   "execution_count": 53,
   "id": "cea37dbf",
   "metadata": {},
   "outputs": [],
   "source": [
    "xpower = torch.pow(torch.maximum(curf, minimumx), p[0])"
   ]
  },
  {
   "cell_type": "code",
   "execution_count": 54,
   "id": "41de7868",
   "metadata": {},
   "outputs": [],
   "source": [
    "xpower_cumsum = xpower.cumsum(2).cumsum(3)"
   ]
  },
  {
   "cell_type": "code",
   "execution_count": 55,
   "id": "c6982f03",
   "metadata": {},
   "outputs": [
    {
     "data": {
      "text/plain": [
       "torch.Size([3, 256, 216, 184])"
      ]
     },
     "execution_count": 55,
     "metadata": {},
     "output_type": "execute_result"
    }
   ],
   "source": [
    "xpower_cumsum.size()"
   ]
  },
  {
   "cell_type": "code",
   "execution_count": 56,
   "id": "97181c9f",
   "metadata": {},
   "outputs": [],
   "source": [
    "x1 = rois_rescale[:, 0]\n",
    "y1 = rois_rescale[:, 1]\n",
    "x2 = rois_rescale[:, 2]\n",
    "y2 = rois_rescale[:, 3]"
   ]
  },
  {
   "cell_type": "code",
   "execution_count": 57,
   "id": "cec8e336",
   "metadata": {},
   "outputs": [
    {
     "data": {
      "text/plain": [
       "torch.Size([5])"
      ]
     },
     "execution_count": 57,
     "metadata": {},
     "output_type": "execute_result"
    }
   ],
   "source": [
    "x1.size()"
   ]
  },
  {
   "cell_type": "code",
   "execution_count": 62,
   "id": "50a92eac",
   "metadata": {},
   "outputs": [],
   "source": [
    "v1 = xpower_cumsum[rois_index, :, y1, x1]\n",
    "v2 = xpower_cumsum[rois_index, :, y2, x2]\n",
    "v3 = xpower_cumsum[rois_index, :, y2, x1]\n",
    "v4 = xpower_cumsum[rois_index, :, y2, x2]\n",
    "\n",
    "roi_power_sum = v4 - v3 - v2 + v1"
   ]
  },
  {
   "cell_type": "code",
   "execution_count": 63,
   "id": "e066135c",
   "metadata": {},
   "outputs": [
    {
     "data": {
      "text/plain": [
       "torch.Size([5, 256])"
      ]
     },
     "execution_count": 63,
     "metadata": {},
     "output_type": "execute_result"
    }
   ],
   "source": [
    "roi_power_sum.size()"
   ]
  },
  {
   "cell_type": "code",
   "execution_count": 64,
   "id": "d35b26d5",
   "metadata": {},
   "outputs": [
    {
     "data": {
      "text/plain": [
       "tensor([139,   0,   4,  56,  52])"
      ]
     },
     "execution_count": 64,
     "metadata": {},
     "output_type": "execute_result"
    }
   ],
   "source": [
    "x1"
   ]
  },
  {
   "cell_type": "code",
   "execution_count": 65,
   "id": "bc99f11b",
   "metadata": {},
   "outputs": [
    {
     "data": {
      "text/plain": [
       "tensor([ 92, 156, 155, 118, 131])"
      ]
     },
     "execution_count": 65,
     "metadata": {},
     "output_type": "execute_result"
    }
   ],
   "source": [
    "y1"
   ]
  },
  {
   "cell_type": "code",
   "execution_count": 66,
   "id": "3a76b144",
   "metadata": {},
   "outputs": [
    {
     "data": {
      "text/plain": [
       "tensor(10322.5391, grad_fn=<SelectBackward0>)"
      ]
     },
     "execution_count": 66,
     "metadata": {},
     "output_type": "execute_result"
    }
   ],
   "source": [
    "xpower_cumsum[0, 0, 92, 139]"
   ]
  },
  {
   "cell_type": "code",
   "execution_count": 67,
   "id": "d4847a6a",
   "metadata": {},
   "outputs": [
    {
     "data": {
      "text/plain": [
       "tensor(10322.5391, grad_fn=<SelectBackward0>)"
      ]
     },
     "execution_count": 67,
     "metadata": {},
     "output_type": "execute_result"
    }
   ],
   "source": [
    "v1[0][0]"
   ]
  },
  {
   "cell_type": "code",
   "execution_count": 37,
   "id": "c5b62cba",
   "metadata": {},
   "outputs": [
    {
     "data": {
      "text/plain": [
       "tensor(0.8135)"
      ]
     },
     "execution_count": 37,
     "metadata": {},
     "output_type": "execute_result"
    }
   ],
   "source": [
    "origin = curf[rois_index, :, x1, y1]\n",
    "origin[0][0]"
   ]
  },
  {
   "cell_type": "code",
   "execution_count": 38,
   "id": "6cec7c36",
   "metadata": {},
   "outputs": [
    {
     "data": {
      "text/plain": [
       "tensor([139,   0,   4,  56,  52])"
      ]
     },
     "execution_count": 38,
     "metadata": {},
     "output_type": "execute_result"
    }
   ],
   "source": [
    "x1"
   ]
  },
  {
   "cell_type": "code",
   "execution_count": 39,
   "id": "378bfa8b",
   "metadata": {},
   "outputs": [
    {
     "data": {
      "text/plain": [
       "tensor([ 92, 156, 155, 118, 131])"
      ]
     },
     "execution_count": 39,
     "metadata": {},
     "output_type": "execute_result"
    }
   ],
   "source": [
    "y1"
   ]
  },
  {
   "cell_type": "code",
   "execution_count": 40,
   "id": "db2136aa",
   "metadata": {},
   "outputs": [],
   "source": [
    "w = x2 - x1\n",
    "h = y2 - y1"
   ]
  },
  {
   "cell_type": "code",
   "execution_count": 41,
   "id": "eed042bd",
   "metadata": {},
   "outputs": [],
   "source": [
    "winc = torch.ceil(w / 7).long()\n",
    "hinc = torch.ceil(h / 7).long()"
   ]
  },
  {
   "cell_type": "code",
   "execution_count": 42,
   "id": "3759091e",
   "metadata": {},
   "outputs": [],
   "source": [
    "subrois_x1 = []\n",
    "subrois_x2 = []\n",
    "subrois_y1 = []\n",
    "subrois_y2 = []\n",
    "subrois_area = []\n",
    "for i in range(7):\n",
    "    cur_y1 = y1 + hinc * i\n",
    "    if i < 6:\n",
    "        cur_y2 = y1 + hinc * (i + 1) - 1\n",
    "    else:\n",
    "        cur_y2 = y2\n",
    "    for j in range(7):\n",
    "        cur_x1 = x1 + winc * j\n",
    "        if j < 6:\n",
    "            cur_x2 = x1 + winc * (j + 1) - 1\n",
    "        else:\n",
    "            cur_x2 = x2\n",
    "            \n",
    "        subrois_x1.append(cur_x1)\n",
    "        subrois_y1.append(cur_y1)\n",
    "        subrois_x2.append(cur_x2)\n",
    "        subrois_y2.append(cur_y2)\n",
    "        \n",
    "        subarea = (cur_x2 - cur_x1 + 1) * (cur_y2 - cur_y1 + 1)\n",
    "        subrois_area.append(subarea)"
   ]
  },
  {
   "cell_type": "code",
   "execution_count": 43,
   "id": "b837fb63",
   "metadata": {},
   "outputs": [],
   "source": [
    "sx1 = torch.cat(subrois_x1, dim=-1).reshape(7, 7, 5).permute(2, 1, 0)\n",
    "sy1 = torch.cat(subrois_y1, dim=-1).reshape(7, 7, 5).permute(2, 1, 0)\n",
    "sx2 = torch.cat(subrois_x2, dim=-1).reshape(7, 7, 5).permute(2, 1, 0)\n",
    "sy2 = torch.cat(subrois_y2, dim=-1).reshape(7, 7, 5).permute(2, 1, 0)\n",
    "ss = torch.cat(subrois_area, dim=-1).reshape(7, 7, 5).permute(2, 1, 0)"
   ]
  },
  {
   "cell_type": "code",
   "execution_count": 44,
   "id": "4f19b91f",
   "metadata": {},
   "outputs": [],
   "source": [
    "rois_index_sub = rois_index.reshape(-1, 1, 1).repeat(1, 7, 7)"
   ]
  },
  {
   "cell_type": "code",
   "execution_count": 45,
   "id": "1a0741c4",
   "metadata": {},
   "outputs": [],
   "source": [
    "v1 = xpower_cumsum[rois_index_sub, :, sx1, sy1]\n",
    "v2 = xpower_cumsum[rois_index_sub, :, sx1, sy2]\n",
    "v3 = xpower_cumsum[rois_index_sub, :, sx2, sy1]\n",
    "v4 = xpower_cumsum[rois_index_sub, :, sx2, sy2]"
   ]
  },
  {
   "cell_type": "code",
   "execution_count": 46,
   "id": "569c7ae7",
   "metadata": {},
   "outputs": [],
   "source": [
    "subroi_power_sum = v4 - v3 - v2 + v1"
   ]
  },
  {
   "cell_type": "code",
   "execution_count": 47,
   "id": "95bf7c92",
   "metadata": {},
   "outputs": [
    {
     "data": {
      "text/plain": [
       "torch.Size([5, 7, 7, 256])"
      ]
     },
     "execution_count": 47,
     "metadata": {},
     "output_type": "execute_result"
    }
   ],
   "source": [
    "subroi_power_sum.size()"
   ]
  },
  {
   "cell_type": "code",
   "execution_count": 48,
   "id": "85158261",
   "metadata": {},
   "outputs": [],
   "source": [
    "subroi_mean = subroi_power_sum / ss.unsqueeze(-1)"
   ]
  },
  {
   "cell_type": "code",
   "execution_count": 49,
   "id": "b8dc180d",
   "metadata": {},
   "outputs": [
    {
     "data": {
      "text/plain": [
       "torch.Size([5, 7, 7, 1])"
      ]
     },
     "execution_count": 49,
     "metadata": {},
     "output_type": "execute_result"
    }
   ],
   "source": [
    "ss.unsqueeze(-1).size()"
   ]
  },
  {
   "cell_type": "code",
   "execution_count": 50,
   "id": "d0a877d7",
   "metadata": {},
   "outputs": [],
   "source": [
    "proj = nn.ModuleList([nn.Conv2d(256, 256, 1, 1, 0) for _ in range(4)])"
   ]
  },
  {
   "cell_type": "code",
   "execution_count": 51,
   "id": "110ff8a0",
   "metadata": {},
   "outputs": [],
   "source": [
    "gem = torch.pow(subroi_mean, 1.0 / p[0])"
   ]
  },
  {
   "cell_type": "code",
   "execution_count": 53,
   "id": "46c4d845",
   "metadata": {},
   "outputs": [],
   "source": [
    "feat_level = proj[0](gem.permute(0, 3, 1, 2))"
   ]
  },
  {
   "cell_type": "code",
   "execution_count": null,
   "id": "dd848879",
   "metadata": {},
   "outputs": [],
   "source": [
    "## test all"
   ]
  },
  {
   "cell_type": "code",
   "execution_count": 1,
   "id": "5a5c6924",
   "metadata": {},
   "outputs": [],
   "source": [
    "import torch\n",
    "import torch.nn as nn\n",
    "import torch.nn.functional as F\n",
    "import sys"
   ]
  },
  {
   "cell_type": "code",
   "execution_count": 2,
   "id": "b6aeb0f9",
   "metadata": {},
   "outputs": [],
   "source": [
    "def map_roi_levels(rois, num_levels):\n",
    "        \"\"\"Map rois to corresponding feature levels by scales.\n",
    "\n",
    "        - scale < finest_scale * 2: level 0\n",
    "        - finest_scale * 2 <= scale < finest_scale * 4: level 1\n",
    "        - finest_scale * 4 <= scale < finest_scale * 8: level 2\n",
    "        - scale >= finest_scale * 8: level 3\n",
    "\n",
    "        Args:\n",
    "            rois (Tensor): Input RoIs, shape (k, 5).\n",
    "            num_levels (int): Total level number.\n",
    "\n",
    "        Returns:\n",
    "            Tensor: Level index (0-based) of each RoI, shape (k, )\n",
    "        \"\"\"\n",
    "        scale = torch.sqrt(\n",
    "            (rois[:, 3] - rois[:, 1]) * (rois[:, 4] - rois[:, 2]))\n",
    "        target_lvls = torch.floor(torch.log2(scale / 56 + 1e-6))\n",
    "        target_lvls = target_lvls.clamp(min=0, max=num_levels - 1).long()\n",
    "        return target_lvls"
   ]
  },
  {
   "cell_type": "code",
   "execution_count": 115,
   "id": "d6fde71a",
   "metadata": {},
   "outputs": [],
   "source": [
    "feats = (torch.relu(torch.randn(3, 256, 224, 168)), torch.relu(torch.randn(3, 256, 112, 84)), torch.relu(torch.randn(3, 256, 56, 42)), torch.relu(torch.randn(3, 256, 28, 21)))\n",
    "rois = torch.Tensor([[  0.0000,  44.5265, 533.2392, 123.3619, 646.8044],\n",
    "[  0.0000, 483.3849, 414.3447, 544.0000, 561.0616],\n",
    "[  0.0000, 464.8555, 361.8051, 544.0000, 513.1793],\n",
    "[  2.0000, 212.0784, 225.8543, 254.5084, 249.5771],\n",
    "[  2.0000, 247.9729, 760.3569, 292.2449, 782.3408],\n",
    "[  2.0000, 370.9329, 319.0714, 461.9206, 359.8063],\n",
    "[  0.0000,   0.0000, 546.8749, 138.5107, 643.9124],\n",
    "[  0.0000,  20.2614, 524.2296, 143.1214, 654.5751],\n",
    "[  0.0000, 338.6020, 213.8744, 470.8668, 356.2858],\n",
    "[  2.0000, 563.3346, 466.3733, 672.0000, 598.5251],\n",
    "[  2.0000, 191.0886,  11.1537, 368.5119, 110.5652],\n",
    "[  2.0000, 147.9487, 314.7806, 279.8951, 450.1862],\n",
    "[0.0000e+00, 8.1635e+00, 3.1470e+02, 2.9839e+02, 5.9779e+02],\n",
    "[0.0000e+00, 1.0332e+02, 3.1823e+02, 3.7490e+02, 6.1636e+02],\n",
    "[0.0000e+00, 0.0000e+00, 2.6797e+02, 2.4527e+02, 5.2831e+02],\n",
    "[0.0000e+00, 2.6465e+02, 3.3791e+02, 5.4215e+02, 6.2000e+02],\n",
    "[0.0000e+00, 0.0000e+00, 4.0628e+01, 1.4740e+02, 4.4955e+02],\n",
    "[0.0000e+00, 3.2377e+02, 2.4155e+02, 5.4400e+02, 5.2082e+02],\n",
    "[0.0000e+00, 3.2348e+02, 3.1718e+02, 5.4400e+02, 6.0229e+02],\n",
    "[0.0000e+00, 2.3139e+02, 2.3201e+02, 5.4400e+02, 8.1500e+02],\n",
    "[0.0000e+00, 3.5330e+02, 4.1191e+02, 5.4400e+02, 6.9351e+02],\n",
    "[0.0000e+00, 3.3930e+02, 4.8037e+02, 5.4400e+02, 7.5963e+02],\n",
    "[0.0000e+00, 1.1803e+02, 4.6942e+02, 3.7715e+02, 7.5625e+02],\n",
    "[0.0000e+00, 6.3730e+01, 3.5782e+02, 3.4386e+02, 6.3828e+02],\n",
    "[0.0000e+00, 4.6200e+01, 4.2272e+02, 3.1291e+02, 6.9105e+02],\n",
    "[0.0000e+00, 0.0000e+00, 2.2000e+02, 2.1545e+02, 4.8887e+02],\n",
    "[0.0000e+00, 2.3805e+02, 0.0000e+00, 5.0801e+02, 2.1661e+02],\n",
    "[  0.0000,  54.9208, 167.9849, 544.0000, 757.0776],\n",
    "[  0.0000,   0.0000, 139.9310, 483.0693, 706.0065],\n",
    "[  0.0000,  83.9238, 311.6150, 544.0000, 815.0000],\n",
    "[  0.0000,   0.0000,   0.0000, 423.8024, 520.2032],\n",
    "[  0.0000, 157.6781,   0.0000, 491.9783, 657.8700],\n",
    "[  0.0000,  93.0500,   0.0000, 441.3786, 755.1307],\n",
    "[  1.0000,   0.0000,   0.0000, 480.0000, 760.3838],])"
   ]
  },
  {
   "cell_type": "code",
   "execution_count": 116,
   "id": "31639ee6",
   "metadata": {},
   "outputs": [],
   "source": [
    "p = nn.Parameter(torch.Tensor([3, 3, 3, 3]))\n",
    "proj = nn.ModuleList([nn.Conv2d(256, 256, 1, 1, 0) for _ in range(4)])\n",
    "minimumx = nn.Parameter(torch.Tensor([1e-6]), requires_grad=False)\n",
    "featmap_strides = [4, 8, 16, 32]\n",
    "rlen = len(rois)"
   ]
  },
  {
   "cell_type": "code",
   "execution_count": 117,
   "id": "ca1fc75e",
   "metadata": {},
   "outputs": [],
   "source": [
    "num_levels = len(feats)"
   ]
  },
  {
   "cell_type": "code",
   "execution_count": 118,
   "id": "6e219603",
   "metadata": {},
   "outputs": [],
   "source": [
    "target_lvls = map_roi_levels(rois, num_levels)"
   ]
  },
  {
   "cell_type": "code",
   "execution_count": 119,
   "id": "f34564df",
   "metadata": {},
   "outputs": [
    {
     "data": {
      "text/plain": [
       "34"
      ]
     },
     "execution_count": 119,
     "metadata": {},
     "output_type": "execute_result"
    }
   ],
   "source": [
    "len(target_lvls)"
   ]
  },
  {
   "cell_type": "code",
   "execution_count": 132,
   "id": "4549e2a7",
   "metadata": {},
   "outputs": [
    {
     "name": "stdout",
     "output_type": "stream",
     "text": [
      "curf torch.Size([3, 256, 224, 168]) tensor(0)\n",
      "tensor([[ 11, 133,  31, 162],\n",
      "        [121, 104, 136, 140],\n",
      "        [116,  90, 136, 128],\n",
      "        [ 53,  56,  64,  62],\n",
      "        [ 62, 190,  73, 196],\n",
      "        [ 93,  80, 115,  90],\n",
      "        [  0, 137,  35, 161],\n",
      "        [  5, 131,  36, 164],\n",
      "        [ 85,  53, 118,  89],\n",
      "        [141, 117, 168, 150],\n",
      "        [ 48,   3,  92,  28],\n",
      "        [ 37,  79,  70, 113],\n",
      "        [  2,  79,  75, 149],\n",
      "        [ 26,  80,  94, 154],\n",
      "        [  0,  67,  61, 132],\n",
      "        [ 66,  84, 136, 155],\n",
      "        [  0,  10,  37, 112],\n",
      "        [ 81,  60, 136, 130],\n",
      "        [ 81,  79, 136, 151],\n",
      "        [ 58,  58, 136, 204],\n",
      "        [ 88, 103, 136, 173],\n",
      "        [ 85, 120, 136, 190],\n",
      "        [ 30, 117,  94, 189],\n",
      "        [ 16,  89,  86, 160],\n",
      "        [ 12, 106,  78, 173],\n",
      "        [  0,  55,  54, 122],\n",
      "        [ 60,   0, 127,  54],\n",
      "        [ 14,  42, 136, 189],\n",
      "        [  0,  35, 121, 177],\n",
      "        [ 21,  78, 136, 204],\n",
      "        [  0,   0, 106, 130],\n",
      "        [ 39,   0, 123, 164],\n",
      "        [ 23,   0, 110, 189],\n",
      "        [  0,   0, 120, 190]])\n",
      "xpower <= 0 tensor(0)\n",
      "xpower_cumsum <= 0 tensor(0)\n",
      "w and h tensor(0) tensor(0)\n",
      "winc and hinc tensor(0) tensor(0)\n",
      "ss torch.Size([34, 7, 7]) tensor(0)\n",
      "ss < 0 tensor(0)\n",
      "subroi_power_sum torch.Size([34, 7, 7, 256]) tensor(0)\n",
      "subroi_power_sum <= 0 tensor(13083)\n",
      "subroi_mean torch.Size([34, 7, 7, 256]) tensor(0)\n",
      "gem torch.Size([34, 7, 7, 256]) tensor(1934)\n",
      "curf torch.Size([3, 256, 112, 84]) tensor(0)\n",
      "tensor([[  6,  67,  15,  81],\n",
      "        [ 60,  52,  68,  70],\n",
      "        [ 58,  45,  68,  64],\n",
      "        [ 27,  28,  32,  31],\n",
      "        [ 31,  95,  37,  98],\n",
      "        [ 46,  40,  58,  45],\n",
      "        [  0,  68,  17,  80],\n",
      "        [  3,  66,  18,  82],\n",
      "        [ 42,  27,  59,  45],\n",
      "        [ 70,  58,  84,  75],\n",
      "        [ 24,   1,  46,  14],\n",
      "        [ 18,  39,  35,  56],\n",
      "        [  1,  39,  37,  75],\n",
      "        [ 13,  40,  47,  77],\n",
      "        [  0,  33,  31,  66],\n",
      "        [ 33,  42,  68,  78],\n",
      "        [  0,   5,  18,  56],\n",
      "        [ 40,  30,  68,  65],\n",
      "        [ 40,  40,  68,  75],\n",
      "        [ 29,  29,  68, 102],\n",
      "        [ 44,  51,  68,  87],\n",
      "        [ 42,  60,  68,  95],\n",
      "        [ 15,  59,  47,  95],\n",
      "        [  8,  45,  43,  80],\n",
      "        [  6,  53,  39,  86],\n",
      "        [  0,  28,  27,  61],\n",
      "        [ 30,   0,  64,  27],\n",
      "        [  7,  21,  68,  95],\n",
      "        [  0,  17,  60,  88],\n",
      "        [ 10,  39,  68, 102],\n",
      "        [  0,   0,  53,  65],\n",
      "        [ 20,   0,  61,  82],\n",
      "        [ 12,   0,  55,  94],\n",
      "        [  0,   0,  60,  95]])\n",
      "xpower <= 0 tensor(0)\n",
      "xpower_cumsum <= 0 tensor(0)\n",
      "w and h tensor(0) tensor(0)\n",
      "winc and hinc tensor(0) tensor(0)\n",
      "ss torch.Size([34, 7, 7]) tensor(0)\n",
      "ss < 0 tensor(0)\n",
      "subroi_power_sum torch.Size([34, 7, 7, 256]) tensor(0)\n",
      "subroi_power_sum <= 0 tensor(45611)\n",
      "subroi_mean torch.Size([34, 7, 7, 256]) tensor(0)\n",
      "gem torch.Size([34, 7, 7, 256]) tensor(2604)\n",
      "curf torch.Size([3, 256, 56, 42]) tensor(0)\n",
      "tensor([[ 3, 33,  8, 40],\n",
      "        [30, 26, 34, 35],\n",
      "        [29, 23, 34, 32],\n",
      "        [13, 14, 16, 16],\n",
      "        [15, 48, 18, 49],\n",
      "        [23, 20, 29, 22],\n",
      "        [ 0, 34,  9, 40],\n",
      "        [ 1, 33,  9, 41],\n",
      "        [21, 13, 29, 22],\n",
      "        [35, 29, 42, 37],\n",
      "        [12,  1, 23,  7],\n",
      "        [ 9, 20, 17, 28],\n",
      "        [ 1, 20, 19, 37],\n",
      "        [ 6, 20, 23, 39],\n",
      "        [ 0, 17, 15, 33],\n",
      "        [17, 21, 34, 39],\n",
      "        [ 0,  3,  9, 28],\n",
      "        [20, 15, 34, 33],\n",
      "        [20, 20, 34, 38],\n",
      "        [14, 15, 34, 51],\n",
      "        [22, 26, 34, 43],\n",
      "        [21, 30, 34, 47],\n",
      "        [ 7, 29, 24, 47],\n",
      "        [ 4, 22, 21, 40],\n",
      "        [ 3, 26, 20, 43],\n",
      "        [ 0, 14, 13, 31],\n",
      "        [15,  0, 32, 14],\n",
      "        [ 3, 10, 34, 47],\n",
      "        [ 0,  9, 30, 44],\n",
      "        [ 5, 19, 34, 51],\n",
      "        [ 0,  0, 26, 33],\n",
      "        [10,  0, 31, 41],\n",
      "        [ 6,  0, 28, 47],\n",
      "        [ 0,  0, 30, 48]])\n",
      "xpower <= 0 tensor(0)\n",
      "xpower_cumsum <= 0 tensor(0)\n",
      "w and h tensor(0) tensor(0)\n",
      "winc and hinc tensor(0) tensor(0)\n",
      "ss torch.Size([34, 7, 7]) tensor(0)\n",
      "ss < 0 tensor(0)\n",
      "subroi_power_sum torch.Size([34, 7, 7, 256]) tensor(0)\n",
      "subroi_power_sum <= 0 tensor(108350)\n",
      "subroi_mean torch.Size([34, 7, 7, 256]) tensor(0)\n",
      "gem torch.Size([34, 7, 7, 256]) tensor(8474)\n",
      "curf torch.Size([3, 256, 28, 21]) tensor(0)\n",
      "tensor([[ 1, 17,  4, 20],\n",
      "        [15, 13, 17, 18],\n",
      "        [15, 11, 17, 16],\n",
      "        [ 7,  7,  8,  8],\n",
      "        [ 8, 24,  9, 24],\n",
      "        [12, 10, 14, 11],\n",
      "        [ 0, 17,  4, 20],\n",
      "        [ 1, 16,  4, 20],\n",
      "        [11,  7, 15, 11],\n",
      "        [18, 15, 21, 19],\n",
      "        [ 6,  0, 12,  3],\n",
      "        [ 5, 10,  9, 14],\n",
      "        [ 0, 10,  9, 19],\n",
      "        [ 3, 10, 12, 19],\n",
      "        [ 0,  8,  8, 17],\n",
      "        [ 8, 11, 17, 19],\n",
      "        [ 0,  1,  5, 14],\n",
      "        [10,  8, 17, 16],\n",
      "        [10, 10, 17, 19],\n",
      "        [ 7,  7, 17, 25],\n",
      "        [11, 13, 17, 22],\n",
      "        [11, 15, 17, 24],\n",
      "        [ 4, 15, 12, 24],\n",
      "        [ 2, 11, 11, 20],\n",
      "        [ 1, 13, 10, 22],\n",
      "        [ 0,  7,  7, 15],\n",
      "        [ 7,  0, 16,  7],\n",
      "        [ 2,  5, 17, 24],\n",
      "        [ 0,  4, 15, 22],\n",
      "        [ 3, 10, 17, 25],\n",
      "        [ 0,  0, 13, 16],\n",
      "        [ 5,  0, 15, 21],\n",
      "        [ 3,  0, 14, 24],\n",
      "        [ 0,  0, 15, 24]])\n",
      "xpower <= 0 tensor(0)\n",
      "xpower_cumsum <= 0 tensor(0)\n",
      "w and h tensor(0) tensor(0)\n",
      "winc and hinc tensor(0) tensor(0)\n",
      "ss torch.Size([34, 7, 7]) tensor(0)\n",
      "ss < 0 tensor(0)\n",
      "subroi_power_sum torch.Size([34, 7, 7, 256]) tensor(0)\n",
      "subroi_power_sum <= 0 tensor(221513)\n",
      "subroi_mean torch.Size([34, 7, 7, 256]) tensor(0)\n",
      "gem torch.Size([34, 7, 7, 256]) tensor(16953)\n"
     ]
    }
   ],
   "source": [
    "roi_feats_list = []\n",
    "rois_index = rois[:, 0].long()\n",
    "rois_index_sub = rois_index.reshape(-1, 1, 1).repeat(1, 7, 7)\n",
    "for level in range(num_levels):\n",
    "    curf = feats[level]\n",
    "    print(\"curf\", curf.size(), curf.isnan().sum())\n",
    "    batch_size, channels, ch, cw = curf.size()\n",
    "    scale_factor = featmap_strides[level]\n",
    "    rois_rescale = torch.round(rois[:, 1:] / scale_factor).long()\n",
    "    print(rois_rescale)\n",
    "    # gem power\n",
    "    xpower = torch.pow(torch.maximum(curf, minimumx), p[level])\n",
    "    print(\"xpower <= 0\", (xpower <= 0).sum())\n",
    "#     print(\"xpower\", xpower.size(), xpower.isnan().sum())\n",
    "    # gem sum, but store as cumsum\n",
    "    xpower_cumsum = xpower.cumsum(2).cumsum(3)\n",
    "    print(\"xpower_cumsum <= 0\", (xpower_cumsum <= 0).sum())\n",
    "#     print(\"xpower_cumsum\", xpower_cumsum.size(), xpower_cumsum.isnan().sum())\n",
    "    # rescaled coordinates\n",
    "    x1 = torch.clamp(rois_rescale[:, 0], min=0, max=cw - 1)\n",
    "    y1 = torch.clamp(rois_rescale[:, 1], min=0, max=ch - 1)\n",
    "    x2 = torch.clamp(rois_rescale[:, 2], min=0, max=cw - 1)\n",
    "    y2 = torch.clamp(rois_rescale[:, 3], min=0, max=ch - 1)\n",
    "#     print(\"x1\", x1.size(), x1.isnan().sum())\n",
    "#     print(\"y1\", y1.size(), y1.isnan().sum())\n",
    "#     print(\"x2\", x2.size(), x2.isnan().sum())\n",
    "#     print(\"y2\", y2.size(), y2.isnan().sum())\n",
    "    # subregion intervals generate 7 * 7\n",
    "    w = x2 - x1 + 1\n",
    "    h = y2 - y1 + 1\n",
    "    print(\"w and h\", (w <= 0).sum(), (h <= 0).sum())\n",
    "    winc = torch.floor(w / 7).long()\n",
    "    hinc = torch.floor(h / 7).long()\n",
    "    print(\"winc and hinc\", (winc < 0).sum(), (hinc < 0).sum())\n",
    "#     print(\"x1\", x1.size(), x1.isnan().sum())\n",
    "#     print(\"y1\", y1.size(), y1.isnan().sum())\n",
    "#     print(\"x2\", x2.size(), x2.isnan().sum())\n",
    "#     print(\"y2\", y2.size(), y2.isnan().sum())\n",
    "    # find all subregion coordinates and area\n",
    "    subrois_x1 = []\n",
    "    subrois_x2 = []\n",
    "    subrois_y1 = []\n",
    "    subrois_y2 = []\n",
    "    subrois_area = []\n",
    "    for i in range(7):\n",
    "        cur_y1 = y1 + hinc * i\n",
    "        if i < 6:\n",
    "            cur_y2 = cur_y1 + hinc\n",
    "        else:\n",
    "            cur_y2 = y2\n",
    "        for j in range(7):\n",
    "            cur_x1 = x1 + winc * j\n",
    "            if j < 6:\n",
    "                cur_x2 = cur_x1 + winc\n",
    "            else:\n",
    "                cur_x2 = x2\n",
    "\n",
    "            subrois_x1.append(cur_x1)\n",
    "            subrois_y1.append(cur_y1)\n",
    "            subrois_x2.append(cur_x2)\n",
    "            subrois_y2.append(cur_y2)\n",
    "            \n",
    "            subarea = (cur_x2 - cur_x1 + 1) * (cur_y2 - cur_y1 + 1)\n",
    "            subrois_area.append(subarea)\n",
    "    # concat them all together\n",
    "    # size(N, 7, 7)\n",
    "    sx1 = torch.cat(subrois_x1, dim=-1).reshape(7, 7, rlen).permute(2, 1, 0)\n",
    "    sy1 = torch.cat(subrois_y1, dim=-1).reshape(7, 7, rlen).permute(2, 1, 0)\n",
    "    sx2 = torch.cat(subrois_x2, dim=-1).reshape(7, 7, rlen).permute(2, 1, 0)\n",
    "    sy2 = torch.cat(subrois_y2, dim=-1).reshape(7, 7, rlen).permute(2, 1, 0)\n",
    "    ss = torch.cat(subrois_area, dim=-1).reshape(7, 7, rlen).permute(2, 1, 0)\n",
    "    print(\"ss\", ss.size(), ss.isnan().sum())\n",
    "    print(\"ss < 0\", (ss < 0).sum())\n",
    "    # get ROI subregion gem sum\n",
    "    v1 = xpower_cumsum[rois_index_sub, :, sy1, sx1]\n",
    "    v2 = xpower_cumsum[rois_index_sub, :, sy1, sx2]\n",
    "    v3 = xpower_cumsum[rois_index_sub, :, sy2, sx1]\n",
    "    v4 = xpower_cumsum[rois_index_sub, :, sy2, sx2]\n",
    "#     print(\"v1\", v1.size(), v1.isnan().sum())\n",
    "#     print(\"v2\", v2.size(), v2.isnan().sum())\n",
    "#     print(\"v3\", v3.size(), v3.isnan().sum())\n",
    "#     print(\"v4\", v4.size(), v4.isnan().sum())\n",
    "    # get real sum by inclusive-exclusive algo\n",
    "    subroi_power_sum = v4 - v3 - v2 + v1\n",
    "    print(\"subroi_power_sum\", subroi_power_sum.size(), subroi_power_sum.isnan().sum())\n",
    "    print(\"subroi_power_sum <= 0\", (subroi_power_sum <= 0).sum())\n",
    "    # calculate mean by divide area\n",
    "    subroi_mean = subroi_power_sum / (ss.unsqueeze(-1))\n",
    "    print(\"subroi_mean\", subroi_mean.size(), subroi_mean.isnan().sum())\n",
    "    gem = torch.pow(subroi_mean, 1.0 / p[level])\n",
    "    print(\"gem\", gem.size(), gem.isnan().sum())\n",
    "    feat_level = proj[level](gem.permute(0, 3, 1, 2))\n",
    "    roi_feats_list.append(feat_level)\n"
   ]
  },
  {
   "cell_type": "code",
   "execution_count": 121,
   "id": "fe8ddc6f",
   "metadata": {},
   "outputs": [],
   "source": [
    "weights = nn.Parameter(torch.Tensor([[0.8, 0.4, 0.2, 0.1],\n",
    "                                    [0.2, 0.8, 0.4, 0.1],\n",
    "                                    [0.1, 0.2, 0.8, 0.4],\n",
    "                                    [0.1, 0.2, 0.4, 0.8]]), requires_grad=False)"
   ]
  },
  {
   "cell_type": "code",
   "execution_count": 122,
   "id": "58e0c73f",
   "metadata": {},
   "outputs": [],
   "source": [
    "add_weights = weights[target_lvls]"
   ]
  },
  {
   "cell_type": "code",
   "execution_count": 123,
   "id": "85248f79",
   "metadata": {},
   "outputs": [
    {
     "data": {
      "text/plain": [
       "torch.Size([34, 4])"
      ]
     },
     "execution_count": 123,
     "metadata": {},
     "output_type": "execute_result"
    }
   ],
   "source": [
    "add_weights.size()"
   ]
  },
  {
   "cell_type": "code",
   "execution_count": 124,
   "id": "0d22ac9c",
   "metadata": {},
   "outputs": [
    {
     "data": {
      "text/plain": [
       "torch.Size([34, 256, 7, 7])"
      ]
     },
     "execution_count": 124,
     "metadata": {},
     "output_type": "execute_result"
    }
   ],
   "source": [
    "roi_feats_list[0].size()"
   ]
  },
  {
   "cell_type": "code",
   "execution_count": 125,
   "id": "3764afe8",
   "metadata": {},
   "outputs": [],
   "source": [
    "roi_feats = torch.cat(roi_feats_list, dim=1).reshape(-1, num_levels, 256, 7, 7)"
   ]
  },
  {
   "cell_type": "code",
   "execution_count": 126,
   "id": "3dd3e9a7",
   "metadata": {},
   "outputs": [
    {
     "data": {
      "text/plain": [
       "torch.Size([34, 4, 256, 7, 7])"
      ]
     },
     "execution_count": 126,
     "metadata": {},
     "output_type": "execute_result"
    }
   ],
   "source": [
    "roi_feats.size()"
   ]
  },
  {
   "cell_type": "code",
   "execution_count": 127,
   "id": "aa50283a",
   "metadata": {},
   "outputs": [],
   "source": [
    "roi_feats_weighted = torch.sum(roi_feats * add_weights.reshape(-1, num_levels, 1, 1, 1),dim=1)"
   ]
  },
  {
   "cell_type": "code",
   "execution_count": 128,
   "id": "a2d43f79",
   "metadata": {},
   "outputs": [
    {
     "data": {
      "text/plain": [
       "torch.Size([34, 4, 1, 1, 1])"
      ]
     },
     "execution_count": 128,
     "metadata": {},
     "output_type": "execute_result"
    }
   ],
   "source": [
    "add_weights.reshape(-1, num_levels, 1, 1, 1).size()"
   ]
  },
  {
   "cell_type": "code",
   "execution_count": 129,
   "id": "33dd9f3d",
   "metadata": {},
   "outputs": [
    {
     "data": {
      "text/plain": [
       "torch.Size([34, 256, 7, 7])"
      ]
     },
     "execution_count": 129,
     "metadata": {},
     "output_type": "execute_result"
    }
   ],
   "source": [
    "roi_feats_weighted.size()"
   ]
  },
  {
   "cell_type": "code",
   "execution_count": 130,
   "id": "1595f558",
   "metadata": {},
   "outputs": [
    {
     "data": {
      "text/plain": [
       "tensor([[[[        nan,         nan,         nan,  ...,         nan,\n",
       "                   nan,         nan],\n",
       "          [        nan,         nan,         nan,  ...,         nan,\n",
       "                   nan,         nan],\n",
       "          [        nan,         nan,         nan,  ...,         nan,\n",
       "                   nan,         nan],\n",
       "          ...,\n",
       "          [        nan,         nan,         nan,  ...,         nan,\n",
       "                   nan,         nan],\n",
       "          [        nan,         nan,         nan,  ...,         nan,\n",
       "                   nan,         nan],\n",
       "          [        nan,         nan,         nan,  ...,         nan,\n",
       "                   nan,         nan]],\n",
       "\n",
       "         [[        nan,         nan,         nan,  ...,         nan,\n",
       "                   nan,         nan],\n",
       "          [        nan,         nan,         nan,  ...,         nan,\n",
       "                   nan,         nan],\n",
       "          [        nan,         nan,         nan,  ...,         nan,\n",
       "                   nan,         nan],\n",
       "          ...,\n",
       "          [        nan,         nan,         nan,  ...,         nan,\n",
       "                   nan,         nan],\n",
       "          [        nan,         nan,         nan,  ...,         nan,\n",
       "                   nan,         nan],\n",
       "          [        nan,         nan,         nan,  ...,         nan,\n",
       "                   nan,         nan]],\n",
       "\n",
       "         [[        nan,         nan,         nan,  ...,         nan,\n",
       "                   nan,         nan],\n",
       "          [        nan,         nan,         nan,  ...,         nan,\n",
       "                   nan,         nan],\n",
       "          [        nan,         nan,         nan,  ...,         nan,\n",
       "                   nan,         nan],\n",
       "          ...,\n",
       "          [        nan,         nan,         nan,  ...,         nan,\n",
       "                   nan,         nan],\n",
       "          [        nan,         nan,         nan,  ...,         nan,\n",
       "                   nan,         nan],\n",
       "          [        nan,         nan,         nan,  ...,         nan,\n",
       "                   nan,         nan]],\n",
       "\n",
       "         ...,\n",
       "\n",
       "         [[        nan,         nan,         nan,  ...,         nan,\n",
       "                   nan,         nan],\n",
       "          [        nan,         nan,         nan,  ...,         nan,\n",
       "                   nan,         nan],\n",
       "          [        nan,         nan,         nan,  ...,         nan,\n",
       "                   nan,         nan],\n",
       "          ...,\n",
       "          [        nan,         nan,         nan,  ...,         nan,\n",
       "                   nan,         nan],\n",
       "          [        nan,         nan,         nan,  ...,         nan,\n",
       "                   nan,         nan],\n",
       "          [        nan,         nan,         nan,  ...,         nan,\n",
       "                   nan,         nan]],\n",
       "\n",
       "         [[        nan,         nan,         nan,  ...,         nan,\n",
       "                   nan,         nan],\n",
       "          [        nan,         nan,         nan,  ...,         nan,\n",
       "                   nan,         nan],\n",
       "          [        nan,         nan,         nan,  ...,         nan,\n",
       "                   nan,         nan],\n",
       "          ...,\n",
       "          [        nan,         nan,         nan,  ...,         nan,\n",
       "                   nan,         nan],\n",
       "          [        nan,         nan,         nan,  ...,         nan,\n",
       "                   nan,         nan],\n",
       "          [        nan,         nan,         nan,  ...,         nan,\n",
       "                   nan,         nan]],\n",
       "\n",
       "         [[        nan,         nan,         nan,  ...,         nan,\n",
       "                   nan,         nan],\n",
       "          [        nan,         nan,         nan,  ...,         nan,\n",
       "                   nan,         nan],\n",
       "          [        nan,         nan,         nan,  ...,         nan,\n",
       "                   nan,         nan],\n",
       "          ...,\n",
       "          [        nan,         nan,         nan,  ...,         nan,\n",
       "                   nan,         nan],\n",
       "          [        nan,         nan,         nan,  ...,         nan,\n",
       "                   nan,         nan],\n",
       "          [        nan,         nan,         nan,  ...,         nan,\n",
       "                   nan,         nan]]],\n",
       "\n",
       "\n",
       "        [[[        nan,         nan,         nan,  ...,         nan,\n",
       "                   nan,         nan],\n",
       "          [        nan,         nan,         nan,  ...,         nan,\n",
       "                   nan,         nan],\n",
       "          [        nan,         nan,         nan,  ...,         nan,\n",
       "                   nan, -1.2764e-01],\n",
       "          ...,\n",
       "          [        nan,         nan,         nan,  ...,         nan,\n",
       "                   nan, -1.0009e-01],\n",
       "          [        nan,         nan,         nan,  ...,         nan,\n",
       "                   nan, -5.9037e-02],\n",
       "          [        nan,         nan,         nan,  ...,         nan,\n",
       "                   nan,  3.5106e-02]],\n",
       "\n",
       "         [[        nan,         nan,         nan,  ...,         nan,\n",
       "                   nan,         nan],\n",
       "          [        nan,         nan,         nan,  ...,         nan,\n",
       "                   nan,         nan],\n",
       "          [        nan,         nan,         nan,  ...,         nan,\n",
       "                   nan, -1.7010e-01],\n",
       "          ...,\n",
       "          [        nan,         nan,         nan,  ...,         nan,\n",
       "                   nan, -7.5728e-03],\n",
       "          [        nan,         nan,         nan,  ...,         nan,\n",
       "                   nan,  1.2017e-01],\n",
       "          [        nan,         nan,         nan,  ...,         nan,\n",
       "                   nan, -1.4527e-01]],\n",
       "\n",
       "         [[        nan,         nan,         nan,  ...,         nan,\n",
       "                   nan,         nan],\n",
       "          [        nan,         nan,         nan,  ...,         nan,\n",
       "                   nan,         nan],\n",
       "          [        nan,         nan,         nan,  ...,         nan,\n",
       "                   nan, -2.0741e-02],\n",
       "          ...,\n",
       "          [        nan,         nan,         nan,  ...,         nan,\n",
       "                   nan,  1.2221e-01],\n",
       "          [        nan,         nan,         nan,  ...,         nan,\n",
       "                   nan,  1.3225e-01],\n",
       "          [        nan,         nan,         nan,  ...,         nan,\n",
       "                   nan,  1.8752e-01]],\n",
       "\n",
       "         ...,\n",
       "\n",
       "         [[        nan,         nan,         nan,  ...,         nan,\n",
       "                   nan,         nan],\n",
       "          [        nan,         nan,         nan,  ...,         nan,\n",
       "                   nan,         nan],\n",
       "          [        nan,         nan,         nan,  ...,         nan,\n",
       "                   nan, -8.6760e-02],\n",
       "          ...,\n",
       "          [        nan,         nan,         nan,  ...,         nan,\n",
       "                   nan, -2.4240e-04],\n",
       "          [        nan,         nan,         nan,  ...,         nan,\n",
       "                   nan, -7.3388e-02],\n",
       "          [        nan,         nan,         nan,  ...,         nan,\n",
       "                   nan, -8.5823e-02]],\n",
       "\n",
       "         [[        nan,         nan,         nan,  ...,         nan,\n",
       "                   nan,         nan],\n",
       "          [        nan,         nan,         nan,  ...,         nan,\n",
       "                   nan,         nan],\n",
       "          [        nan,         nan,         nan,  ...,         nan,\n",
       "                   nan, -5.8563e-01],\n",
       "          ...,\n",
       "          [        nan,         nan,         nan,  ...,         nan,\n",
       "                   nan, -4.4474e-01],\n",
       "          [        nan,         nan,         nan,  ...,         nan,\n",
       "                   nan, -5.9662e-01],\n",
       "          [        nan,         nan,         nan,  ...,         nan,\n",
       "                   nan, -6.8067e-01]],\n",
       "\n",
       "         [[        nan,         nan,         nan,  ...,         nan,\n",
       "                   nan,         nan],\n",
       "          [        nan,         nan,         nan,  ...,         nan,\n",
       "                   nan,         nan],\n",
       "          [        nan,         nan,         nan,  ...,         nan,\n",
       "                   nan,  1.7426e-01],\n",
       "          ...,\n",
       "          [        nan,         nan,         nan,  ...,         nan,\n",
       "                   nan, -2.7040e-02],\n",
       "          [        nan,         nan,         nan,  ...,         nan,\n",
       "                   nan, -1.0490e-02],\n",
       "          [        nan,         nan,         nan,  ...,         nan,\n",
       "                   nan,  2.4029e-01]]],\n",
       "\n",
       "\n",
       "        [[[        nan,         nan,         nan,  ...,         nan,\n",
       "                   nan, -1.9554e-01],\n",
       "          [        nan,         nan,         nan,  ...,         nan,\n",
       "                   nan,         nan],\n",
       "          [        nan,         nan,         nan,  ...,         nan,\n",
       "                   nan, -9.0615e-02],\n",
       "          ...,\n",
       "          [        nan,         nan,         nan,  ...,         nan,\n",
       "                   nan, -1.9768e-01],\n",
       "          [        nan,         nan,         nan,  ...,         nan,\n",
       "                   nan, -1.4496e-01],\n",
       "          [-1.7175e-02, -6.8454e-02, -3.5990e-02,  ...,         nan,\n",
       "                   nan,  6.5100e-02]],\n",
       "\n",
       "         [[        nan,         nan,         nan,  ...,         nan,\n",
       "                   nan,  1.4787e-01],\n",
       "          [        nan,         nan,         nan,  ...,         nan,\n",
       "                   nan,         nan],\n",
       "          [        nan,         nan,         nan,  ...,         nan,\n",
       "                   nan, -8.9590e-02],\n",
       "          ...,\n",
       "          [        nan,         nan,         nan,  ...,         nan,\n",
       "                   nan, -1.0510e-01],\n",
       "          [        nan,         nan,         nan,  ...,         nan,\n",
       "                   nan, -1.0188e-01],\n",
       "          [ 2.5028e-02, -1.6821e-01, -1.8049e-01,  ...,         nan,\n",
       "                   nan, -2.2314e-01]],\n",
       "\n",
       "         [[        nan,         nan,         nan,  ...,         nan,\n",
       "                   nan,  1.6420e-01],\n",
       "          [        nan,         nan,         nan,  ...,         nan,\n",
       "                   nan,         nan],\n",
       "          [        nan,         nan,         nan,  ...,         nan,\n",
       "                   nan, -3.4871e-02],\n",
       "          ...,\n",
       "          [        nan,         nan,         nan,  ...,         nan,\n",
       "                   nan,  1.6855e-01],\n",
       "          [        nan,         nan,         nan,  ...,         nan,\n",
       "                   nan,  4.0552e-02],\n",
       "          [ 9.7341e-02,  9.4714e-02, -1.1834e-01,  ...,         nan,\n",
       "                   nan,  2.5391e-01]],\n",
       "\n",
       "         ...,\n",
       "\n",
       "         [[        nan,         nan,         nan,  ...,         nan,\n",
       "                   nan, -5.4629e-02],\n",
       "          [        nan,         nan,         nan,  ...,         nan,\n",
       "                   nan,         nan],\n",
       "          [        nan,         nan,         nan,  ...,         nan,\n",
       "                   nan, -1.3044e-01],\n",
       "          ...,\n",
       "          [        nan,         nan,         nan,  ...,         nan,\n",
       "                   nan,  9.1972e-02],\n",
       "          [        nan,         nan,         nan,  ...,         nan,\n",
       "                   nan, -9.2696e-02],\n",
       "          [-2.0629e-02,  7.7155e-02, -2.2503e-01,  ...,         nan,\n",
       "                   nan, -9.7607e-02]],\n",
       "\n",
       "         [[        nan,         nan,         nan,  ...,         nan,\n",
       "                   nan, -6.2083e-01],\n",
       "          [        nan,         nan,         nan,  ...,         nan,\n",
       "                   nan,         nan],\n",
       "          [        nan,         nan,         nan,  ...,         nan,\n",
       "                   nan, -6.9816e-01],\n",
       "          ...,\n",
       "          [        nan,         nan,         nan,  ...,         nan,\n",
       "                   nan, -4.1658e-01],\n",
       "          [        nan,         nan,         nan,  ...,         nan,\n",
       "                   nan, -4.3694e-01],\n",
       "          [-5.3530e-01, -7.8083e-01, -4.3312e-01,  ...,         nan,\n",
       "                   nan, -8.1058e-01]],\n",
       "\n",
       "         [[        nan,         nan,         nan,  ...,         nan,\n",
       "                   nan, -8.0831e-02],\n",
       "          [        nan,         nan,         nan,  ...,         nan,\n",
       "                   nan,         nan],\n",
       "          [        nan,         nan,         nan,  ...,         nan,\n",
       "                   nan, -1.7620e-02],\n",
       "          ...,\n",
       "          [        nan,         nan,         nan,  ...,         nan,\n",
       "                   nan, -1.4471e-01],\n",
       "          [        nan,         nan,         nan,  ...,         nan,\n",
       "                   nan,  3.5898e-02],\n",
       "          [ 1.6163e-01, -7.3120e-04,  1.1583e-01,  ...,         nan,\n",
       "                   nan,  2.4472e-01]]],\n",
       "\n",
       "\n",
       "        ...,\n",
       "\n",
       "\n",
       "        [[[        nan,         nan,         nan,  ...,         nan,\n",
       "                   nan,         nan],\n",
       "          [        nan,         nan,         nan,  ...,         nan,\n",
       "                   nan,         nan],\n",
       "          [        nan,         nan,         nan,  ...,         nan,\n",
       "                   nan,         nan],\n",
       "          ...,\n",
       "          [        nan,         nan,         nan,  ...,         nan,\n",
       "                   nan,         nan],\n",
       "          [        nan,         nan,         nan,  ...,         nan,\n",
       "                   nan,         nan],\n",
       "          [ 6.3842e-01,  3.9183e-01,  5.6733e-01,  ...,  3.2930e-01,\n",
       "            6.1896e-01,  4.3939e-01]],\n",
       "\n",
       "         [[        nan,         nan,         nan,  ...,         nan,\n",
       "                   nan,         nan],\n",
       "          [        nan,         nan,         nan,  ...,         nan,\n",
       "                   nan,         nan],\n",
       "          [        nan,         nan,         nan,  ...,         nan,\n",
       "                   nan,         nan],\n",
       "          ...,\n",
       "          [        nan,         nan,         nan,  ...,         nan,\n",
       "                   nan,         nan],\n",
       "          [        nan,         nan,         nan,  ...,         nan,\n",
       "                   nan,         nan],\n",
       "          [ 3.1221e-01,  3.2090e-01,  4.5390e-01,  ...,  3.5240e-01,\n",
       "            4.2729e-01,  4.1673e-01]],\n",
       "\n",
       "         [[        nan,         nan,         nan,  ...,         nan,\n",
       "                   nan,         nan],\n",
       "          [        nan,         nan,         nan,  ...,         nan,\n",
       "                   nan,         nan],\n",
       "          [        nan,         nan,         nan,  ...,         nan,\n",
       "                   nan,         nan],\n",
       "          ...,\n",
       "          [        nan,         nan,         nan,  ...,         nan,\n",
       "                   nan,         nan],\n",
       "          [        nan,         nan,         nan,  ...,         nan,\n",
       "                   nan,         nan],\n",
       "          [ 4.8358e-01,  1.1381e-01,  2.0410e-01,  ...,  4.7505e-02,\n",
       "            2.1743e-01,  5.8369e-01]],\n",
       "\n",
       "         ...,\n",
       "\n",
       "         [[        nan,         nan,         nan,  ...,         nan,\n",
       "                   nan,         nan],\n",
       "          [        nan,         nan,         nan,  ...,         nan,\n",
       "                   nan,         nan],\n",
       "          [        nan,         nan,         nan,  ...,         nan,\n",
       "                   nan,         nan],\n",
       "          ...,\n",
       "          [        nan,         nan,         nan,  ...,         nan,\n",
       "                   nan,         nan],\n",
       "          [        nan,         nan,         nan,  ...,         nan,\n",
       "                   nan,         nan],\n",
       "          [-3.4865e-01, -2.9902e-01, -5.1642e-01,  ..., -1.6404e-01,\n",
       "           -2.5853e-01, -5.2040e-01]],\n",
       "\n",
       "         [[        nan,         nan,         nan,  ...,         nan,\n",
       "                   nan,         nan],\n",
       "          [        nan,         nan,         nan,  ...,         nan,\n",
       "                   nan,         nan],\n",
       "          [        nan,         nan,         nan,  ...,         nan,\n",
       "                   nan,         nan],\n",
       "          ...,\n",
       "          [        nan,         nan,         nan,  ...,         nan,\n",
       "                   nan,         nan],\n",
       "          [        nan,         nan,         nan,  ...,         nan,\n",
       "                   nan,         nan],\n",
       "          [-6.2969e-01, -5.3976e-01, -5.2481e-01,  ..., -6.2129e-01,\n",
       "           -6.8416e-01, -6.3478e-01]],\n",
       "\n",
       "         [[        nan,         nan,         nan,  ...,         nan,\n",
       "                   nan,         nan],\n",
       "          [        nan,         nan,         nan,  ...,         nan,\n",
       "                   nan,         nan],\n",
       "          [        nan,         nan,         nan,  ...,         nan,\n",
       "                   nan,         nan],\n",
       "          ...,\n",
       "          [        nan,         nan,         nan,  ...,         nan,\n",
       "                   nan,         nan],\n",
       "          [        nan,         nan,         nan,  ...,         nan,\n",
       "                   nan,         nan],\n",
       "          [ 7.8399e-01,  6.2553e-01,  4.6142e-01,  ...,  7.9803e-01,\n",
       "            7.6444e-01,  6.4149e-01]]],\n",
       "\n",
       "\n",
       "        [[[        nan,         nan,         nan,  ...,         nan,\n",
       "                   nan,  5.1405e-01],\n",
       "          [        nan,         nan,         nan,  ...,         nan,\n",
       "                   nan,         nan],\n",
       "          [        nan,         nan,         nan,  ...,         nan,\n",
       "                   nan,         nan],\n",
       "          ...,\n",
       "          [        nan,         nan,         nan,  ...,         nan,\n",
       "                   nan,         nan],\n",
       "          [        nan,         nan,         nan,  ...,         nan,\n",
       "                   nan,  4.5186e-01],\n",
       "          [ 5.2236e-01,  5.5914e-01,  5.1999e-01,  ...,  3.5204e-01,\n",
       "            5.4819e-01,  5.0520e-01]],\n",
       "\n",
       "         [[        nan,         nan,         nan,  ...,         nan,\n",
       "                   nan,  1.9307e-01],\n",
       "          [        nan,         nan,         nan,  ...,         nan,\n",
       "                   nan,         nan],\n",
       "          [        nan,         nan,         nan,  ...,         nan,\n",
       "                   nan,         nan],\n",
       "          ...,\n",
       "          [        nan,         nan,         nan,  ...,         nan,\n",
       "                   nan,         nan],\n",
       "          [        nan,         nan,         nan,  ...,         nan,\n",
       "                   nan,  9.6672e-02],\n",
       "          [ 4.6565e-01,  4.3048e-01,  4.2833e-01,  ...,  3.5206e-01,\n",
       "            3.7607e-01,  4.0596e-01]],\n",
       "\n",
       "         [[        nan,         nan,         nan,  ...,         nan,\n",
       "                   nan,  2.2447e-01],\n",
       "          [        nan,         nan,         nan,  ...,         nan,\n",
       "                   nan,         nan],\n",
       "          [        nan,         nan,         nan,  ...,         nan,\n",
       "                   nan,         nan],\n",
       "          ...,\n",
       "          [        nan,         nan,         nan,  ...,         nan,\n",
       "                   nan,         nan],\n",
       "          [        nan,         nan,         nan,  ...,         nan,\n",
       "                   nan,  2.3550e-01],\n",
       "          [ 3.5632e-01,  1.8886e-01,  3.3726e-01,  ...,  1.3685e-01,\n",
       "            3.0050e-01,  4.5721e-01]],\n",
       "\n",
       "         ...,\n",
       "\n",
       "         [[        nan,         nan,         nan,  ...,         nan,\n",
       "                   nan, -4.1985e-01],\n",
       "          [        nan,         nan,         nan,  ...,         nan,\n",
       "                   nan,         nan],\n",
       "          [        nan,         nan,         nan,  ...,         nan,\n",
       "                   nan,         nan],\n",
       "          ...,\n",
       "          [        nan,         nan,         nan,  ...,         nan,\n",
       "                   nan,         nan],\n",
       "          [        nan,         nan,         nan,  ...,         nan,\n",
       "                   nan, -4.2642e-01],\n",
       "          [-4.8584e-01, -4.5723e-01, -4.9720e-01,  ..., -3.0636e-01,\n",
       "           -4.5704e-01, -6.0230e-01]],\n",
       "\n",
       "         [[        nan,         nan,         nan,  ...,         nan,\n",
       "                   nan, -4.3731e-01],\n",
       "          [        nan,         nan,         nan,  ...,         nan,\n",
       "                   nan,         nan],\n",
       "          [        nan,         nan,         nan,  ...,         nan,\n",
       "                   nan,         nan],\n",
       "          ...,\n",
       "          [        nan,         nan,         nan,  ...,         nan,\n",
       "                   nan,         nan],\n",
       "          [        nan,         nan,         nan,  ...,         nan,\n",
       "                   nan, -2.8471e-01],\n",
       "          [-7.0391e-01, -6.0116e-01, -6.3918e-01,  ..., -5.5094e-01,\n",
       "           -5.9170e-01, -6.8863e-01]],\n",
       "\n",
       "         [[        nan,         nan,         nan,  ...,         nan,\n",
       "                   nan,  6.7991e-01],\n",
       "          [        nan,         nan,         nan,  ...,         nan,\n",
       "                   nan,         nan],\n",
       "          [        nan,         nan,         nan,  ...,         nan,\n",
       "                   nan,         nan],\n",
       "          ...,\n",
       "          [        nan,         nan,         nan,  ...,         nan,\n",
       "                   nan,         nan],\n",
       "          [        nan,         nan,         nan,  ...,         nan,\n",
       "                   nan,  6.5352e-01],\n",
       "          [ 6.3633e-01,  5.7643e-01,  4.9122e-01,  ...,  6.9810e-01,\n",
       "            6.8796e-01,  5.3815e-01]]],\n",
       "\n",
       "\n",
       "        [[[ 3.6862e-01,         nan,         nan,  ...,  6.2090e-01,\n",
       "                   nan,  6.8037e-01],\n",
       "          [        nan,         nan,         nan,  ...,         nan,\n",
       "                   nan,  6.5167e-01],\n",
       "          [ 3.3363e-01,         nan,         nan,  ...,         nan,\n",
       "                   nan,  4.8307e-01],\n",
       "          ...,\n",
       "          [        nan,  5.1550e-01,         nan,  ...,  5.5158e-01,\n",
       "                   nan,  3.2149e-01],\n",
       "          [        nan,  4.8669e-01,  5.4036e-01,  ...,         nan,\n",
       "            5.8833e-01,  5.8480e-01],\n",
       "          [ 5.5659e-01,  3.4017e-01,  5.1392e-01,  ...,  3.3150e-01,\n",
       "            4.7264e-01,  4.0886e-01]],\n",
       "\n",
       "         [[ 1.6654e-01,         nan,         nan,  ...,  3.6263e-01,\n",
       "                   nan,  3.5697e-01],\n",
       "          [        nan,         nan,         nan,  ...,         nan,\n",
       "                   nan,  2.8831e-01],\n",
       "          [ 2.0233e-01,         nan,         nan,  ...,         nan,\n",
       "                   nan,  1.8357e-01],\n",
       "          ...,\n",
       "          [        nan,  3.9889e-01,         nan,  ...,  2.9201e-01,\n",
       "                   nan,  4.3030e-01],\n",
       "          [        nan,  2.7336e-01,  4.4125e-01,  ...,         nan,\n",
       "            3.4628e-01,  1.9146e-01],\n",
       "          [ 1.7899e-01,  2.5923e-01,  3.8739e-01,  ...,  4.7255e-02,\n",
       "            4.1387e-01,  2.4961e-01]],\n",
       "\n",
       "         [[ 4.4873e-01,         nan,         nan,  ...,  4.1333e-02,\n",
       "                   nan,  3.2252e-01],\n",
       "          [        nan,         nan,         nan,  ...,         nan,\n",
       "                   nan,  3.6185e-01],\n",
       "          [ 4.7931e-01,         nan,         nan,  ...,         nan,\n",
       "                   nan,  2.1623e-01],\n",
       "          ...,\n",
       "          [        nan,  2.9516e-02,         nan,  ...,  2.4793e-01,\n",
       "                   nan,  1.7268e-01],\n",
       "          [        nan,  1.4526e-01,  3.2461e-01,  ...,         nan,\n",
       "            2.6779e-01,  2.1622e-01],\n",
       "          [ 2.4946e-01,  1.4046e-01,  1.9247e-01,  ...,  5.6504e-02,\n",
       "            1.0876e-01,  3.2137e-01]],\n",
       "\n",
       "         ...,\n",
       "\n",
       "         [[-3.3292e-01,         nan,         nan,  ..., -2.8025e-01,\n",
       "                   nan, -4.0581e-01],\n",
       "          [        nan,         nan,         nan,  ...,         nan,\n",
       "                   nan, -3.2578e-01],\n",
       "          [-3.9970e-01,         nan,         nan,  ...,         nan,\n",
       "                   nan, -4.4790e-01],\n",
       "          ...,\n",
       "          [        nan, -4.9977e-01,         nan,  ..., -5.5314e-01,\n",
       "                   nan, -4.4716e-01],\n",
       "          [        nan, -3.5866e-01, -4.8006e-01,  ...,         nan,\n",
       "           -2.6578e-01, -3.9348e-01],\n",
       "          [-4.9069e-01, -2.0392e-01, -2.7607e-01,  ..., -4.9858e-01,\n",
       "           -6.2204e-01, -3.5604e-01]],\n",
       "\n",
       "         [[-3.6878e-01,         nan,         nan,  ..., -4.7262e-01,\n",
       "                   nan, -5.8269e-01],\n",
       "          [        nan,         nan,         nan,  ...,         nan,\n",
       "                   nan, -3.3549e-01],\n",
       "          [-5.5438e-01,         nan,         nan,  ...,         nan,\n",
       "                   nan, -5.8092e-01],\n",
       "          ...,\n",
       "          [        nan, -6.4938e-01,         nan,  ..., -3.7237e-01,\n",
       "                   nan, -6.7649e-01],\n",
       "          [        nan, -4.4951e-01, -6.0981e-01,  ...,         nan,\n",
       "           -4.9279e-01, -6.2369e-01],\n",
       "          [-7.5356e-01, -5.2781e-01, -5.9675e-01,  ..., -7.3584e-01,\n",
       "           -5.5655e-01, -5.0641e-01]],\n",
       "\n",
       "         [[ 5.8509e-01,         nan,         nan,  ...,  7.1523e-01,\n",
       "                   nan,  5.2325e-01],\n",
       "          [        nan,         nan,         nan,  ...,         nan,\n",
       "                   nan,  7.1415e-01],\n",
       "          [ 6.0109e-01,         nan,         nan,  ...,         nan,\n",
       "                   nan,  5.3680e-01],\n",
       "          ...,\n",
       "          [        nan,  7.5007e-01,         nan,  ...,  5.5468e-01,\n",
       "                   nan,  8.2346e-01],\n",
       "          [        nan,  5.6677e-01,  6.1771e-01,  ...,         nan,\n",
       "            5.3837e-01,  7.8980e-01],\n",
       "          [ 7.7731e-01,  5.8752e-01,  6.1614e-01,  ...,  7.2784e-01,\n",
       "            8.5567e-01,  5.0409e-01]]]], grad_fn=<SumBackward1>)"
      ]
     },
     "execution_count": 130,
     "metadata": {},
     "output_type": "execute_result"
    }
   ],
   "source": [
    "roi_feats_weighted"
   ]
  },
  {
   "cell_type": "code",
   "execution_count": 105,
   "id": "e45ecb1c",
   "metadata": {},
   "outputs": [
    {
     "data": {
      "text/plain": [
       "tensor([[[ 1,  1,  1,  ...,  1,  1,  4],\n",
       "         [ 1,  1,  1,  ...,  1,  1,  4],\n",
       "         [ 1,  1,  1,  ...,  1,  1,  4],\n",
       "         ...,\n",
       "         [ 1,  1,  1,  ...,  1,  1,  4],\n",
       "         [ 1,  1,  1,  ...,  1,  1,  4],\n",
       "         [ 4,  4,  4,  ...,  4,  4, 16]],\n",
       "\n",
       "        [[ 1,  1,  1,  ...,  1,  1,  6],\n",
       "         [ 1,  1,  1,  ...,  1,  1,  6],\n",
       "         [ 1,  1,  1,  ...,  1,  1,  6],\n",
       "         ...,\n",
       "         [ 1,  1,  1,  ...,  1,  1,  6],\n",
       "         [ 1,  1,  1,  ...,  1,  1,  6],\n",
       "         [ 3,  3,  3,  ...,  3,  3, 18]],\n",
       "\n",
       "        [[ 1,  1,  1,  ...,  1,  1,  6],\n",
       "         [ 1,  1,  1,  ...,  1,  1,  6],\n",
       "         [ 1,  1,  1,  ...,  1,  1,  6],\n",
       "         ...,\n",
       "         [ 1,  1,  1,  ...,  1,  1,  6],\n",
       "         [ 1,  1,  1,  ...,  1,  1,  6],\n",
       "         [ 3,  3,  3,  ...,  3,  3, 18]],\n",
       "\n",
       "        ...,\n",
       "\n",
       "        [[ 8,  8,  8,  ...,  8,  8,  8],\n",
       "         [ 8,  8,  8,  ...,  8,  8,  8],\n",
       "         [ 8,  8,  8,  ...,  8,  8,  8],\n",
       "         ...,\n",
       "         [ 8,  8,  8,  ...,  8,  8,  8],\n",
       "         [ 8,  8,  8,  ...,  8,  8,  8],\n",
       "         [20, 20, 20,  ..., 20, 20, 20]],\n",
       "\n",
       "        [[ 8,  8,  8,  ...,  8,  8, 14],\n",
       "         [ 8,  8,  8,  ...,  8,  8, 14],\n",
       "         [ 8,  8,  8,  ...,  8,  8, 14],\n",
       "         ...,\n",
       "         [ 8,  8,  8,  ...,  8,  8, 14],\n",
       "         [ 8,  8,  8,  ...,  8,  8, 14],\n",
       "         [24, 24, 24,  ..., 24, 24, 42]],\n",
       "\n",
       "        [[12, 12, 12,  ..., 12, 12, 21],\n",
       "         [12, 12, 12,  ..., 12, 12, 21],\n",
       "         [12, 12, 12,  ..., 12, 12, 21],\n",
       "         ...,\n",
       "         [12, 12, 12,  ..., 12, 12, 21],\n",
       "         [12, 12, 12,  ..., 12, 12, 21],\n",
       "         [16, 16, 16,  ..., 16, 16, 28]]])"
      ]
     },
     "execution_count": 105,
     "metadata": {},
     "output_type": "execute_result"
    }
   ],
   "source": [
    "ss"
   ]
  },
  {
   "cell_type": "code",
   "execution_count": 106,
   "id": "0a06706c",
   "metadata": {},
   "outputs": [
    {
     "data": {
      "text/plain": [
       "tensor([[ 1, 17,  4, 20],\n",
       "        [15, 13, 17, 18],\n",
       "        [15, 11, 17, 16],\n",
       "        [ 7,  7,  8,  8],\n",
       "        [ 8, 24,  9, 24],\n",
       "        [12, 10, 14, 11],\n",
       "        [ 0, 17,  4, 20],\n",
       "        [ 1, 16,  4, 20],\n",
       "        [11,  7, 15, 11],\n",
       "        [18, 15, 21, 19],\n",
       "        [ 6,  0, 12,  3],\n",
       "        [ 5, 10,  9, 14],\n",
       "        [ 0, 10,  9, 19],\n",
       "        [ 3, 10, 12, 19],\n",
       "        [ 0,  8,  8, 17],\n",
       "        [ 8, 11, 17, 19],\n",
       "        [ 0,  1,  5, 14],\n",
       "        [10,  8, 17, 16],\n",
       "        [10, 10, 17, 19],\n",
       "        [ 7,  7, 17, 25],\n",
       "        [11, 13, 17, 22],\n",
       "        [11, 15, 17, 24],\n",
       "        [ 4, 15, 12, 24],\n",
       "        [ 2, 11, 11, 20],\n",
       "        [ 1, 13, 10, 22],\n",
       "        [ 0,  7,  7, 15],\n",
       "        [ 7,  0, 16,  7],\n",
       "        [ 2,  5, 17, 24],\n",
       "        [ 0,  4, 15, 22],\n",
       "        [ 3, 10, 17, 25],\n",
       "        [ 0,  0, 13, 16],\n",
       "        [ 5,  0, 15, 21],\n",
       "        [ 3,  0, 14, 24],\n",
       "        [ 0,  0, 15, 24]])"
      ]
     },
     "execution_count": 106,
     "metadata": {},
     "output_type": "execute_result"
    }
   ],
   "source": [
    "rois_rescale"
   ]
  },
  {
   "cell_type": "code",
   "execution_count": null,
   "id": "7d3d392d",
   "metadata": {},
   "outputs": [],
   "source": []
  }
 ],
 "metadata": {
  "kernelspec": {
   "display_name": "Python 3 (ipykernel)",
   "language": "python",
   "name": "python3"
  },
  "language_info": {
   "codemirror_mode": {
    "name": "ipython",
    "version": 3
   },
   "file_extension": ".py",
   "mimetype": "text/x-python",
   "name": "python",
   "nbconvert_exporter": "python",
   "pygments_lexer": "ipython3",
   "version": "3.9.12"
  }
 },
 "nbformat": 4,
 "nbformat_minor": 5
}
